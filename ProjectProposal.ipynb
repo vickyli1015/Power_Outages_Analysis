{
 "cells": [
  {
   "cell_type": "markdown",
   "metadata": {},
   "source": [
    "# COGS 108 - Final Project Proposal"
   ]
  },
  {
   "cell_type": "markdown",
   "metadata": {},
   "source": [
    "# Names\n",
    "\n",
    "- Wenhua Tang\n",
    "- Qianyu Peng\n",
    "- Vicky Li\n",
    "- Yao Liu\n"
   ]
  },
  {
   "cell_type": "markdown",
   "metadata": {},
   "source": [
    "# Research Question"
   ]
  },
  {
   "cell_type": "markdown",
   "metadata": {},
   "source": [
    "-  Include a specific, clear data science question.\n",
    "-  Make sure what you're measuring (variables) to answer the question is clear\n",
    "\n",
    "What is your research question? Include the specific question you're setting out to answer. This question should be specific, answerable with data, be related to data science and clear. A general question with specific subquestions is permitted. You should NOT include a prediction of what you think or assume the outcome will be. This is only a question. (1-2 sentences)\n",
    "\n",
    "Is there a significant difference in the number of affected customers when the outage is induced by a disruption in system operability or a disruption in non-system operability?\n"
   ]
  },
  {
   "cell_type": "markdown",
   "metadata": {},
   "source": [
    "# Background and Prior Work"
   ]
  },
  {
   "cell_type": "markdown",
   "metadata": {},
   "source": [
    "\n",
    "- Include a general introduction to your topic\n",
    "- Include explanation of what work has been done previously\n",
    "- Include citations or links to previous work\n",
    "\n",
    "Electricity has become an essential need to any institution in modern society, especially when our technology is heavily dependent on it. Almost everything we work with everyday requires some kind of electricity. However, power outages in the electricity network are not uncommon in people’s lives. In recent years, power outages have increased markedly, exceeding 8 hours of blackouts in 2020 and 7 hours in 2021 [1]. As defined by the U.S. Department of Energy (DOE), the major outages refer to those that impacted at least 50,000 customers or caused an unplanned firm load loss of at least 300 MW. \n",
    "\n",
    "There may be various reasons that can cause power outages, such as severe weather, equipment failure, or system operability disruption, overloaded power grids, etc.\n",
    "\n",
    "As a study shows, power outages can be attributed to a combination of various factors, including natural hazards (and its type), scale of overhead transmission and distribution (T&D) systems, the extent of state-level rural v.s. urban areas, and levels of investments in the infrastructure, etc. The type of natural disaster implies how it may impact the robustness of the power system.  There can be underground power systems, but if they are overhead, the more exposed they are, the easier they are to malfunction, which means the higher the grid's vulnerability to failures. Similarly, the researchers suggest, outages are more common in states with lower urban population and higher rural population, where the areas people live in receive less attention and investment in maintaining the power systems, making them more vulnerable to natural hazards, system operability disruption, attacks, etc. and affect millions of people [2]. To narrow down the focus of our project, we specifically explore the extent of impact of system operability disruption on power systems and to see whether there is a large enough impact that the government should take actions. Our primary concern is the well-being of individuals affected by outages, and we measure the effect by analyzing the number of affected customers.\n",
    "\n",
    "Another study conducts an analysis of power system resilience in the U.S., suggesting that economic factors, such as real GDP per capita and the expected utility’s construction to total state product (GSP), plays a significant role for recovery time and efficiency of recovery [3]. A better economic condition contributes to faster resolution of blackouts, as well as increased likelihood of regular maintenance and operational activities. This, in turn, will lead to a rise in GSP and a reduction in equipment or software program failures and amount of affected customers. Therefore, by analyzing the influence of system operability disruption on customers, we will also be able to analyze how government and utility companies are expected to take care of power systems, either daily and during the recovery process.\n",
    "\n",
    "\n",
    "References \n",
    "\n",
    "[1] Berry, R. (2022, November 14). U.S. Electricity Customers Averaged Seven Hours of Power Interruptions in 2021. U.S. Energy Information Administration (EIA). www.eia.gov/todayinenergy/detail.php?id=54639#:~:text=U.S.%20electricity%20customers%20averaged%20seven%20hours%20of%20power%20interruptions%20in%202021&amp;text=On%20average%2C%20U.S.%20electricity%20customers,hour%20less%20than%20in%202020. \n",
    "\n",
    "[2] Mukherjee, S., Nateghi, R., &amp; Hastak, M. (2018, March 8). A Multi-Hazard Approach to Assess Severe Weather-Induced Major Power Outage Risks in the U.S. ScienceDirect. www.sciencedirect.com/science/article/pii/S0951832017307767 \n",
    "\n",
    "[3] Shen, L.,  Tang, Y., &amp; Tang, L. C. (2021, March 26). Understanding Key Factors Affecting Power Systems Resilience. ScienceDirect. https://www.sciencedirect.com/science/article/pii/S0951832021001642 \n",
    "\n"
   ]
  },
  {
   "cell_type": "markdown",
   "metadata": {},
   "source": [
    "# Hypothesis\n"
   ]
  },
  {
   "cell_type": "markdown",
   "metadata": {},
   "source": [
    "- Include your team's research hypothesis and null hypothesis\n",
    "- Ensure that this hypothesis is clear and concise\n",
    "\n",
    "\n",
    "* **Null Hypothesis:** There is an equal impact between system operability disruption and non-system operability disruption on customers. The impact can be measured by the number of affected customers.\n",
    "* **Alternative Hypothesis:** There is a difference in impact between system operability disruption and non-system operability disruption on customers."
   ]
  },
  {
   "cell_type": "markdown",
   "metadata": {},
   "source": [
    "# Data"
   ]
  },
  {
   "cell_type": "markdown",
   "metadata": {},
   "source": [
    "1. Explain what is the **ideal** dataset for answering this question. (This should include: What variables? How many observations? Who/what/how would this data be collected? How would this data be stored/organized?)\n",
    "\n",
    "Ideal dataset:\n",
    "Variables: The dataset should include relevant variables such as:\n",
    "Outage Information: Date, time, duration, and types of the outages.\n",
    "Geographical Location: State, city, or region where the outages occurred.\n",
    "Weather Data: Temperature, precipitation, wind speed, and other climatic factors during the outages.\n",
    "Infrastructure: Details about the power grid, transmission lines, substations, and equipment involved in the outages.\n",
    "Energy Consumption: Information on electricity demand, usage patterns, and load profiles before, during, and after the outages.\n",
    "Economic Indicators: Metrics related to the affected states' GDP, employment rates, industry composition, and economic resilience.\n",
    "Number of Observations: The dataset should contain a sufficient number of observations to allow for robust analysis. This would depend on the scope and objectives of the project, but ideally, it should cover a significant number of power outage events across various states and regions.\n",
    "Data Collection: Ideally, the data should be collected through multiple sources and methods, such as: power grid operators, weather agencies, government agencies, surveys, or researchers\n",
    "\n",
    "Data Storage/Organization: The data should be stored and organized in a structured and neat format, such as a spreadsheet. Each variable should have its respective column, and each observation (power outage event) should be represented as a row. It will be ideal if the data has no missing value, data is properly normalized and in appropriate data types. Additionally, it is ideal to document the data sources, collection methods, and any data transformations applied during the organization process.\n",
    "\n",
    "2. Search for potential **real** datasets that could provide you with something useful for this project.  You do not have to find every piece of data you will use, but you do need to have demonstrated some idea that (a) this data is available and (b) that this data may be different from what your ideal is, and you are considering strategies to use or adapt it or adapt your question.\n",
    "\n",
    "Dataset name: Major Power Outage Risks in the U.S.\n",
    "Link to download the dataset: https://engineering.purdue.edu/LASCI/research-data/outages/outagerisks\n",
    "Number of observations: 1534\n",
    "Number of variables: 55  \n",
    "Data comes from: Purdue University\n",
    "Variable descriptions are available: https://www.sciencedirect.com/science/article/pii/S2352340918307182\n",
    "This dataset includes information about big power outages that happened in different states across the continental U.S. Apart from the outages themselves, the data also provides details about where they occurred, the weather in those regions, the way land is used, how people use electricity, and economic information about the affected states.\n",
    "\n",
    "As we aim to test whether power outages caused by system operability disruptions result in a greater number of affected customers compared to outages caused by non-system operability disruptions, we will analyze the outage reasons categorically and consolidate the reasons associated with non-system operability disruptions.\n"
   ]
  },
  {
   "cell_type": "markdown",
   "metadata": {},
   "source": [
    "# Ethics & Privacy"
   ]
  },
  {
   "cell_type": "markdown",
   "metadata": {},
   "source": [
    "The ethics evaluation in our data analysis project can be divided into three main aspects: Minimizing bias, Respecting privacy, and Minimizing undue harm now and in the future. Our project has nine components, including Questioning, Implication, Dataset, Informed Consent, Privacy, Evaluation, Analysis, Transparency, and Continuous Monitoring.\n",
    "\n",
    "Since our project has a limited timeframe, we have chosen to use existing publicly available datasets rather than collecting data ourselves. As a result, our Ethics and Privacy Concerns can be categorized into two main types. The first type involves the analysis of the data itself and its sources, while the second type relates to the impact of our group members' data analysis methods and influence on society.\n",
    "\n",
    "Our dataset is sourced from Purdue University's \"Major Power Outage Risks in The U.S.\" According to the paper titled \"Data On Major Power Outage Events in the continental U.S.\" from 2018, the data from these sources were aggregated based on the year, month, and region (U.S. state). The major power outages were characterized by their duration and the total number of affected customers during each event. Rigorous preprocessing techniques were employed to minimize measurement errors. \n",
    "\n",
    "The description of the data sources mentioned above satisfies our three main ethical concerns. Regarding bias, the data is collected in a fair and equal manner, capturing power outage incidents across the entire United States. There is no omission of specific regions that could lead to an unfair consideration of the power outage situations for all individuals; regarding privacy, the dataset does not contain any specific individual information. It only provides information on power outages in specific regions at certain times. The data parameters do not allow us to access sensitive information about specific individuals or locations; regarding minimizing undue harm now and in the future, the data collection process is conducted through the government. The adverse effects of power outages on individuals and communities are not further stimulated or aggravated due to the data collection process. Considering the above, the data collection process and dataset itself  adheres to our ethical standards.\n",
    "\n",
    "Secondly, Our data processing involves three main processes: Questioning, Evaluation, and Analysis.   In our questioning process, we aim to explore the correlation between power outages and population density nationwide. The design of this question includes every state within our investigation, ensuring fairness and inclusivity. Investigating this correlation aims to facilitate better preparedness and mitigation strategies to reduce the frequency of power outages, which aligns with the goal of minimizing harm now and in the future.\n",
    "\n",
    "During the evaluation and analysis processes, we may encounter data ethics issues. One such issue is the need for a consistent metric to evaluate the relationship between power outages and population density. Other parameters, including factors such as time, temperature, and more, should not influence this metric. It is essential to carefully consider the selection and application of the metric to ensure fairness, objectivity, and unbiased analysis. Suppose our metric for evaluating the relationship between power outages and population density is influenced by time. In that case, it can have consequences where we obtain correlation results without being able to conduct further analysis. This is because the observed correlation may not be causally linked to the geographic regions or population density. Engaging in incorrect analysis based on this correlation can lead to inaccurate conclusions, mislead our readers, and raise ethical concerns.\n",
    "\n",
    "By adopting this approach, we can provide a more rigorous demonstration of our hypothesis and avoid drawing unethical conclusions from the data. This method ensures that our analysis is conducted in a thorough and unbiased manner, minimizing the risk of ethical concerns related to the data.\n",
    "\n"
   ]
  },
  {
   "cell_type": "markdown",
   "metadata": {},
   "source": [
    "# Team Expectations "
   ]
  },
  {
   "cell_type": "markdown",
   "metadata": {},
   "source": [
    "\n",
    "Read over the [COGS108 Team Policies](https://github.com/drsimpkins-teaching/cogs108/blob/main/main_project/TeamPolicies.md) individually. Then, include your group’s expectations of one another for successful completion of your COGS108 project below. Discuss and agree on what all of your expectations are. Discuss how your team will communicate throughout the quarter and consider how you will communicate respectfully should conflicts arise. By including each member’s name above and by adding their name to the submission, you are indicating that you have read the COGS108 Team Policies, accept your team’s expectations below, and have every intention to fulfill them. These expectations are for your team’s use and benefit — they won’t be graded for their details.\n",
    "\n",
    "* Team should have regular meetings per week for effective communications to stay on the same page and resolve any problems.\n",
    "* Team members should actively participate and make contributions in the project.\n",
    "* Team members should complete the assigned tasks on time, if not finished in meetings. Team members should work together, read and check the whole project to provide feedback.\n"
   ]
  },
  {
   "cell_type": "markdown",
   "metadata": {},
   "source": [
    "# Project Timeline Proposal"
   ]
  },
  {
   "cell_type": "markdown",
   "metadata": {},
   "source": [
    "Specify your team's project timeline. An example timeline has been provided. Changes the dates, times, names, and details to fit your group's plan.\n",
    "\n",
    "If you think you will need any special resources or training outside what we have covered in COGS 108 to solve your problem, then your proposal should state these clearly. For example, if you have selected a problem that involves implementing multiple neural networks, please state this so we can make sure you are on track for success and so we can point you to resources you will need to implement your project. Note that you are not required to use outside methods.\n",
    "\n",
    "\n",
    "\n",
    "| Meeting Date  | Meeting Time| Completed Before Meeting  | Discuss at Meeting |\n",
    "|---|---|---|---|\n",
    "| 7/13  |  1 PM | Read & Think about COGS 108 expectations; brainstorm topics/questions  | Determine best form of communication; Discuss and decide on final project topic; discuss hypothesis; begin background research | \n",
    "| 7/20  |  10 AM |  Do background research on topic | Discuss ideal dataset(s) and ethics; draft project proposal | \n",
    "| 7/27  | 10 AM  | Edit, finalize, and submit proposal; Search for datasets  | Discuss Wrangling and possible analytical approaches; Assign group members to lead each specific part   |\n",
    "| 8/1  | 6 PM  | Import & Wrangle Data; | Discuss Analysis Plan   |\n",
    "| 8/2  | 12 PM  | Finalize wrangling/EDA; Begin Analysis | Discuss/edit Analysis; Complete project check-in |\n",
    "| 8/3  | 12 PM  | Complete analysis; Draft results/conclusion/discussion | Discuss/edit full project |\n",
    "| 8/3  | Before 11:59 PM  | NA | Turn in Final Project & Group Project Surveys |"
   ]
  },
  {
   "cell_type": "code",
   "execution_count": null,
   "metadata": {},
   "outputs": [],
   "source": []
  }
 ],
 "metadata": {
  "kernelspec": {
   "display_name": "Python 3 (ipykernel)",
   "language": "python",
   "name": "python3"
  },
  "language_info": {
   "codemirror_mode": {
    "name": "ipython",
    "version": 3
   },
   "file_extension": ".py",
   "mimetype": "text/x-python",
   "name": "python",
   "nbconvert_exporter": "python",
   "pygments_lexer": "ipython3",
   "version": "3.9.12"
  }
 },
 "nbformat": 4,
 "nbformat_minor": 2
}
