{
 "cells": [
  {
   "cell_type": "markdown",
   "metadata": {},
   "source": [
    "# UC San Diego: Data Science in Practice\n",
    "## Analysis of Power Outages in the U.S."
   ]
  },
  {
   "cell_type": "markdown",
   "metadata": {},
   "source": [
    "## Permissions\n",
    "\n",
    "Place an `X` in the appropriate bracket below to specify if you would like your group's project to be made available to the public. (Note that student names will be included (but PIDs will be scraped from any groups who include their PIDs).\n",
    "\n",
    "* [  ] YES - make available\n",
    "* [X] NO - keep private"
   ]
  },
  {
   "cell_type": "markdown",
   "metadata": {},
   "source": [
    "# Names\n",
    "\n",
    "- Wenhua Tang\n",
    "- Qianyu Peng\n",
    "- Vicky Li\n",
    "- Yao Liu"
   ]
  },
  {
   "cell_type": "markdown",
   "metadata": {},
   "source": [
    "# Overview"
   ]
  },
  {
   "cell_type": "markdown",
   "metadata": {},
   "source": [
    "Having lived in California for several years, we have observed a concerning trend of increasing power outages in both frequency and severity. In response to this issue, our project aimed to investigate whether there is a distinction in the severity of power outages caused by system operability disruptions (non-malicious software program failures) and non-system operability disruptions across the entire U.S. By doing so, our society can prioritize efforts to address the root causes of these disruptions and enhance overall resilience and reliability of power grids, which impact the living standards and well-being of a large portion of the population. As a result of our analysis, we **did** discovered a significant difference in the **impact on customers (measured by number of customers affected)** between system operability disruption and non-system operability disruption. \n",
    "\n",
    "Beyond our primary focus, we also explored how various factors influence the electricity market. To achieve this, we developed a Decision Tree Regressor model that successfully predict `TOTAL.PRICE`, which represents the average monthly electricity price in each U.S. state (in cents per kilowatt-hour), with an accuracy score > 60% on both training and test sets. This additional analysis provides valuable insights into the complex dynamics of the electricity market. "
   ]
  },
  {
   "cell_type": "markdown",
   "metadata": {},
   "source": [
    "<a id='research_question'></a>\n",
    "# Research Question"
   ]
  },
  {
   "cell_type": "markdown",
   "metadata": {},
   "source": [
    "Is there a significant difference in the number of affected customers when the outage is induced by a disruption in system operability or a disruption in non-system operability?"
   ]
  },
  {
   "cell_type": "markdown",
   "metadata": {},
   "source": [
    "<a id='background'></a>\n",
    "\n",
    "## Background & Prior Work"
   ]
  },
  {
   "cell_type": "markdown",
   "metadata": {},
   "source": [
    "Electricity has become an essential need to any institution in modern society, especially when our technology is heavily dependent on it. Almost everything we work with everyday requires some kind of electricity. However, power outages in the electricity network are not uncommon in people’s lives. In recent years, power outages have increased markedly, exceeding 8 hours of blackouts in 2020 and 7 hours in 2021 [1]. As defined by the U.S. Department of Energy (DOE), the major outages refer to those that impacted at least 50,000 customers or caused an unplanned firm load loss of at least 300 MW, and we were suffering more from major events than from non-major events in the past few years.\n",
    "\n",
    "There may be various reasons that can cause power outages, such as severe weather, equipment failure, or **system operability disruption (non-malicious software program failure)**, overloaded power grids, etc.\n",
    "\n",
    "As a study shows, power outages can be attributed to a combination of various factors, including natural hazards (and its type), scale of overhead transmission and distribution (T&D) systems, the extent of state-level rural v.s. urban areas, and levels of investments in the infrastructure, etc. The type of natural disaster implies how it may impact the robustness of the power system.  There can be underground power systems, but if they are overhead, the more exposed they are, the easier they are to malfunction, which means the higher the grid's vulnerability to failures. Similarly, the researchers suggest, outages are more common in states with lower urban population and higher rural population, where the areas people live in receive less attention and investment in maintaining the power systems, making them more vulnerable to natural hazards, system operability disruption, attacks, etc. and affect millions of people [2]. **To narrow down the focus of our project, we specifically explore the extent of impact of system operability disruption on power systems and to see whether there is a large enough impact that the government should take actions. Our primary concern is the well-being of individuals affected by outages, and we measure the effect by analyzing the number of affected customers.**\n",
    "\n",
    "Another study conducts an analysis of power system resilience in the U.S., suggesting that economic factors, such as real GDP per capita and the expected utility’s construction to total state product (GSP), plays a significant role for recovery time and efficiency of recovery [3]. A better economic condition contributes to faster resolution of blackouts, as well as increased likelihood of regular maintenance and operational activities. This, in turn, will lead to a rise in GSP and a reduction in equipment or software program failures and amount of affected customers. Therefore, by analyzing the influence of system operability disruption on customers, we will also be able to analyze how government and utility companies are likely to take care of power systems, either daily and during the recovery process.\n",
    "\n",
    "\n",
    "References \n",
    "\n",
    "[1] Berry, R. (2022, November 14). U.S. Electricity Customers Averaged Seven Hours of Power Interruptions in 2021. U.S. Energy Information Administration (EIA). www.eia.gov/todayinenergy/detail.php?id=54639#:~:text=U.S.%20electricity%20customers%20averaged%20seven%20hours%20of%20power%20interruptions%20in%202021&amp;text=On%20average%2C%20U.S.%20electricity%20customers,hour%20less%20than%20in%202020. \n",
    "\n",
    "[2] Mukherjee, S., Nateghi, R., &amp; Hastak, M. (2018, March 8). A Multi-Hazard Approach to Assess Severe Weather-Induced Major Power Outage Risks in the U.S. ScienceDirect. www.sciencedirect.com/science/article/pii/S0951832017307767 \n",
    "\n",
    "[3] Shen, L.,  Tang, Y., &amp; Tang, L. C. (2021, March 26). Understanding Key Factors Affecting Power Systems Resilience. ScienceDirect. https://www.sciencedirect.com/science/article/pii/S0951832021001642 \n"
   ]
  },
  {
   "cell_type": "markdown",
   "metadata": {},
   "source": [
    "# Hypothesis\n"
   ]
  },
  {
   "cell_type": "markdown",
   "metadata": {},
   "source": [
    "* **Null Hypothesis:** There is an equal impact between system operability disruption and non-system operability disruption on customers. The impact is measured by the number of customers affected.\n",
    "* **Alternative Hypothesis:** There is a difference in impact between system operability disruption and non-system operability disruption on customers."
   ]
  },
  {
   "cell_type": "markdown",
   "metadata": {},
   "source": [
    "# Dataset(s)"
   ]
  },
  {
   "cell_type": "markdown",
   "metadata": {},
   "source": [
    "- Dataset name: Major Power Outage Risks in the U.S.\n",
    "- Link to the dataset: \n",
    "    1. https://engineering.purdue.edu/LASCI/research-data/outages/outagerisks\n",
    "\n",
    "    2. https://www.sciencedirect.com/science/article/pii/S2352340918307182\n",
    "- Number of observations: 1534\n",
    "- The dataset contains information about **major** power outages that occurred in most states across the continental U.S. from January 2000 to July 2016. In addition to the outages, the data includes details about their locations, the weather conditions in those regions, land usage, electricity consumption patterns, and economic information related to the affected states.\n",
    "- Since the dataset contains the variables we need for the research question, such as \"affected customers\" and \"system operability,\" we believe it is suitable for our project."
   ]
  },
  {
   "cell_type": "markdown",
   "metadata": {},
   "source": [
    "# Ethics & Privacy"
   ]
  },
  {
   "cell_type": "markdown",
   "metadata": {},
   "source": [
    "The ethics evaluation in our data analysis project can be divided into three main aspects: Minimizing bias, Respecting privacy, and Minimizing undue harm now and in the future. Our project has nine components, including Questioning, Implication, Dataset, Informed Consent, Privacy, Evaluation, Analysis, Transparency, and Continuous Monitoring.\n",
    "\n",
    "Since our project has a limited timeframe, we have chosen to use existing publicly available datasets rather than collecting data ourselves. As a result, our Ethics and Privacy Concerns can be categorized into two main types. The first type involves the analysis of the data itself and its sources, while the second type relates to the impact of our group members' data analysis methods and influence on society.\n",
    "\n",
    "Our dataset is sourced from Purdue University's \"Major Power Outage Risks in The U.S.\" According to the paper titled \"Data On Major Power Outage Events in the continental U.S.\" from 2018, the data from these sources were aggregated based on the year, month, and region (U.S. state). The major power outages were characterized by their duration and the total number of affected customers during each event. Rigorous preprocessing techniques were employed to minimize measurement errors. \n",
    "\n",
    "The data sources mentioned above satisfy our three main ethical concerns. Regarding bias, the data is collected in a fair and equal manner, capturing major power outage incidents across the entire United States. There is no omission of specific regions that could lead to an unfair consideration of the power outage situations for all individuals; regarding privacy, the dataset does not contain any specific individual information. It only provides information on power outages in specific regions at certain times. The data parameters do not allow us to access sensitive information about specific individuals or locations; regarding minimizing undue harm now and in the future, the data collection process is conducted through the government. The adverse effects of power outages on individuals and communities are not further stimulated or aggravated due to the data collection process. Considering the above, the data collection process and dataset itself  adheres to our ethical standards.\n",
    "\n",
    "Secondly, Our data processing involves three main processes: Questioning, Evaluation, and Analysis. In our questioning process, we aim to explore different correlation between power outages and various factors. The design of this question includes every state within our investigation, ensuring fairness and inclusivity. Investigating this correlation aims to facilitate better preparedness and mitigation strategies to reduce the frequency of power outages, which aligns with the goal of minimizing harm now and in the future.\n",
    "\n",
    "During the evaluation and analysis processes, we may encounter data ethics issues. One such issue is the need for a consistent metric to evaluate the relationship between power outages and population density. Other parameters, including factors such as time, temperature, and more, should not influence this metric. It is essential to carefully consider the selection and application of the metric to ensure fairness, objectivity, and unbiased analysis. Suppose our metric for evaluating the relationship between power outages and population density is influenced by time. In that case, it can have consequences where we obtain correlation results without being able to conduct further analysis. This is because the observed correlation may not be causally linked to the geographic regions or population density. Engaging in incorrect analysis based on this correlation can lead to inaccurate conclusions, mislead our readers, and raise ethical concerns.\n",
    "\n",
    "By adopting this approach, we can provide a more rigorous demonstration of our hypothesis and avoid drawing unethical conclusions from the data. This method ensures that our analysis is conducted in a thorough and unbiased manner, minimizing the risk of ethical concerns related to the data."
   ]
  },
  {
   "cell_type": "markdown",
   "metadata": {},
   "source": [
    "# Data Wrangling"
   ]
  },
  {
   "cell_type": "markdown",
   "metadata": {},
   "source": [
    "- First, we downloaded the data from the given url into our local computer (also in repo)\n",
    "- Then, we imported and installed all necessary packages for later use.\n",
    "- Lastly, we use `pd.read_excel()` to read the data and select only the useful rows from the raw dataset."
   ]
  },
  {
   "cell_type": "code",
   "execution_count": 1,
   "metadata": {
    "scrolled": true
   },
   "outputs": [],
   "source": [
    "# !pip install pandas openpyxl\n",
    "# !pip install plotly\n",
    "import matplotlib.pyplot as plt \n",
    "import numpy as np\n",
    "import os\n",
    "import pandas as pd\n",
    "import seaborn as sns\n",
    "import plotly.express as px\n",
    "import warnings\n",
    "warnings.filterwarnings('ignore')"
   ]
  },
  {
   "cell_type": "code",
   "execution_count": 2,
   "metadata": {},
   "outputs": [
    {
     "data": {
      "text/html": [
       "<div>\n",
       "<style scoped>\n",
       "    .dataframe tbody tr th:only-of-type {\n",
       "        vertical-align: middle;\n",
       "    }\n",
       "\n",
       "    .dataframe tbody tr th {\n",
       "        vertical-align: top;\n",
       "    }\n",
       "\n",
       "    .dataframe thead th {\n",
       "        text-align: right;\n",
       "    }\n",
       "</style>\n",
       "<table border=\"1\" class=\"dataframe\">\n",
       "  <thead>\n",
       "    <tr style=\"text-align: right;\">\n",
       "      <th></th>\n",
       "      <th>Major power outage events in the continental U.S.</th>\n",
       "      <th>Unnamed: 1</th>\n",
       "      <th>Unnamed: 2</th>\n",
       "      <th>Unnamed: 3</th>\n",
       "      <th>Unnamed: 4</th>\n",
       "      <th></th>\n",
       "      <th>Unnamed: 6</th>\n",
       "      <th>Unnamed: 7</th>\n",
       "      <th>Unnamed: 8</th>\n",
       "      <th>Unnamed: 9</th>\n",
       "      <th>...</th>\n",
       "      <th>Unnamed: 47</th>\n",
       "      <th>Unnamed: 48</th>\n",
       "      <th>Unnamed: 49</th>\n",
       "      <th>Unnamed: 50</th>\n",
       "      <th>Unnamed: 51</th>\n",
       "      <th>Unnamed: 52</th>\n",
       "      <th>Unnamed: 53</th>\n",
       "      <th>Unnamed: 54</th>\n",
       "      <th>Unnamed: 55</th>\n",
       "      <th>Unnamed: 56</th>\n",
       "    </tr>\n",
       "  </thead>\n",
       "  <tbody>\n",
       "    <tr>\n",
       "      <th>6</th>\n",
       "      <td>NaN</td>\n",
       "      <td>1</td>\n",
       "      <td>2011</td>\n",
       "      <td>7</td>\n",
       "      <td>Minnesota</td>\n",
       "      <td>MN</td>\n",
       "      <td>MRO</td>\n",
       "      <td>East North Central</td>\n",
       "      <td>-0.3</td>\n",
       "      <td>normal</td>\n",
       "      <td>...</td>\n",
       "      <td>73.27</td>\n",
       "      <td>15.28</td>\n",
       "      <td>2279</td>\n",
       "      <td>1700.5</td>\n",
       "      <td>18.2</td>\n",
       "      <td>2.14</td>\n",
       "      <td>0.6</td>\n",
       "      <td>91.592666</td>\n",
       "      <td>8.407334</td>\n",
       "      <td>5.478743</td>\n",
       "    </tr>\n",
       "    <tr>\n",
       "      <th>7</th>\n",
       "      <td>NaN</td>\n",
       "      <td>2</td>\n",
       "      <td>2014</td>\n",
       "      <td>5</td>\n",
       "      <td>Minnesota</td>\n",
       "      <td>MN</td>\n",
       "      <td>MRO</td>\n",
       "      <td>East North Central</td>\n",
       "      <td>-0.1</td>\n",
       "      <td>normal</td>\n",
       "      <td>...</td>\n",
       "      <td>73.27</td>\n",
       "      <td>15.28</td>\n",
       "      <td>2279</td>\n",
       "      <td>1700.5</td>\n",
       "      <td>18.2</td>\n",
       "      <td>2.14</td>\n",
       "      <td>0.6</td>\n",
       "      <td>91.592666</td>\n",
       "      <td>8.407334</td>\n",
       "      <td>5.478743</td>\n",
       "    </tr>\n",
       "    <tr>\n",
       "      <th>8</th>\n",
       "      <td>NaN</td>\n",
       "      <td>3</td>\n",
       "      <td>2010</td>\n",
       "      <td>10</td>\n",
       "      <td>Minnesota</td>\n",
       "      <td>MN</td>\n",
       "      <td>MRO</td>\n",
       "      <td>East North Central</td>\n",
       "      <td>-1.5</td>\n",
       "      <td>cold</td>\n",
       "      <td>...</td>\n",
       "      <td>73.27</td>\n",
       "      <td>15.28</td>\n",
       "      <td>2279</td>\n",
       "      <td>1700.5</td>\n",
       "      <td>18.2</td>\n",
       "      <td>2.14</td>\n",
       "      <td>0.6</td>\n",
       "      <td>91.592666</td>\n",
       "      <td>8.407334</td>\n",
       "      <td>5.478743</td>\n",
       "    </tr>\n",
       "    <tr>\n",
       "      <th>9</th>\n",
       "      <td>NaN</td>\n",
       "      <td>4</td>\n",
       "      <td>2012</td>\n",
       "      <td>6</td>\n",
       "      <td>Minnesota</td>\n",
       "      <td>MN</td>\n",
       "      <td>MRO</td>\n",
       "      <td>East North Central</td>\n",
       "      <td>-0.1</td>\n",
       "      <td>normal</td>\n",
       "      <td>...</td>\n",
       "      <td>73.27</td>\n",
       "      <td>15.28</td>\n",
       "      <td>2279</td>\n",
       "      <td>1700.5</td>\n",
       "      <td>18.2</td>\n",
       "      <td>2.14</td>\n",
       "      <td>0.6</td>\n",
       "      <td>91.592666</td>\n",
       "      <td>8.407334</td>\n",
       "      <td>5.478743</td>\n",
       "    </tr>\n",
       "    <tr>\n",
       "      <th>10</th>\n",
       "      <td>NaN</td>\n",
       "      <td>5</td>\n",
       "      <td>2015</td>\n",
       "      <td>7</td>\n",
       "      <td>Minnesota</td>\n",
       "      <td>MN</td>\n",
       "      <td>MRO</td>\n",
       "      <td>East North Central</td>\n",
       "      <td>1.2</td>\n",
       "      <td>warm</td>\n",
       "      <td>...</td>\n",
       "      <td>73.27</td>\n",
       "      <td>15.28</td>\n",
       "      <td>2279</td>\n",
       "      <td>1700.5</td>\n",
       "      <td>18.2</td>\n",
       "      <td>2.14</td>\n",
       "      <td>0.6</td>\n",
       "      <td>91.592666</td>\n",
       "      <td>8.407334</td>\n",
       "      <td>5.478743</td>\n",
       "    </tr>\n",
       "  </tbody>\n",
       "</table>\n",
       "<p>5 rows × 57 columns</p>\n",
       "</div>"
      ],
      "text/plain": [
       "   Major power outage events in the continental U.S. Unnamed: 1 Unnamed: 2  \\\n",
       "6                                                NaN          1       2011   \n",
       "7                                                NaN          2       2014   \n",
       "8                                                NaN          3       2010   \n",
       "9                                                NaN          4       2012   \n",
       "10                                               NaN          5       2015   \n",
       "\n",
       "   Unnamed: 3 Unnamed: 4     Unnamed: 6          Unnamed: 7 Unnamed: 8  \\\n",
       "6           7  Minnesota  MN        MRO  East North Central       -0.3   \n",
       "7           5  Minnesota  MN        MRO  East North Central       -0.1   \n",
       "8          10  Minnesota  MN        MRO  East North Central       -1.5   \n",
       "9           6  Minnesota  MN        MRO  East North Central       -0.1   \n",
       "10          7  Minnesota  MN        MRO  East North Central        1.2   \n",
       "\n",
       "   Unnamed: 9  ... Unnamed: 47 Unnamed: 48 Unnamed: 49 Unnamed: 50  \\\n",
       "6      normal  ...       73.27       15.28        2279      1700.5   \n",
       "7      normal  ...       73.27       15.28        2279      1700.5   \n",
       "8        cold  ...       73.27       15.28        2279      1700.5   \n",
       "9      normal  ...       73.27       15.28        2279      1700.5   \n",
       "10       warm  ...       73.27       15.28        2279      1700.5   \n",
       "\n",
       "   Unnamed: 51 Unnamed: 52 Unnamed: 53 Unnamed: 54 Unnamed: 55 Unnamed: 56  \n",
       "6         18.2        2.14         0.6   91.592666    8.407334    5.478743  \n",
       "7         18.2        2.14         0.6   91.592666    8.407334    5.478743  \n",
       "8         18.2        2.14         0.6   91.592666    8.407334    5.478743  \n",
       "9         18.2        2.14         0.6   91.592666    8.407334    5.478743  \n",
       "10        18.2        2.14         0.6   91.592666    8.407334    5.478743  \n",
       "\n",
       "[5 rows x 57 columns]"
      ]
     },
     "execution_count": 2,
     "metadata": {},
     "output_type": "execute_result"
    }
   ],
   "source": [
    "df = pd.read_excel('outage.xlsx') # Read data\n",
    "coloum_name_lst = list(df.iloc[4]) # Get the actual column name\n",
    "coloum_name_lst.remove('variables') # Remove unnecessary columns\n",
    "coloum_name_lst.remove('OBS')\n",
    "df = df.iloc[6:1539] # Select only useful rows \n",
    "df.head(5)"
   ]
  },
  {
   "cell_type": "markdown",
   "metadata": {},
   "source": [
    "# Data Cleaning"
   ]
  },
  {
   "cell_type": "markdown",
   "metadata": {},
   "source": [
    "- We first dropped the unrelated columns from the dataset.\n",
    "- Then, we replaced the default names of the columns with the names of the actual columns from the dataset.\n",
    "- For better analysis, we sorted the dataset by `Year` and then reset the index."
   ]
  },
  {
   "cell_type": "code",
   "execution_count": 3,
   "metadata": {},
   "outputs": [],
   "source": [
    "# Drop unrelated columns\n",
    "df = df.drop(\n",
    "    columns = ['Major power outage events in the continental U.S.','Unnamed: 1'])\n",
    "\n",
    "# Replace default column names with new column names\n",
    "df.columns = coloum_name_lst \n",
    "\n",
    "# Sort rows based on years\n",
    "df = (df.sort_values('YEAR')\n",
    "      .reset_index()\n",
    "      .drop(columns = ['index']))"
   ]
  },
  {
   "cell_type": "code",
   "execution_count": 4,
   "metadata": {
    "scrolled": true
   },
   "outputs": [
    {
     "data": {
      "text/html": [
       "<div>\n",
       "<style scoped>\n",
       "    .dataframe tbody tr th:only-of-type {\n",
       "        vertical-align: middle;\n",
       "    }\n",
       "\n",
       "    .dataframe tbody tr th {\n",
       "        vertical-align: top;\n",
       "    }\n",
       "\n",
       "    .dataframe thead th {\n",
       "        text-align: right;\n",
       "    }\n",
       "</style>\n",
       "<table border=\"1\" class=\"dataframe\">\n",
       "  <thead>\n",
       "    <tr style=\"text-align: right;\">\n",
       "      <th></th>\n",
       "      <th>YEAR</th>\n",
       "      <th>MONTH</th>\n",
       "      <th>U.S._STATE</th>\n",
       "      <th>POSTAL.CODE</th>\n",
       "      <th>NERC.REGION</th>\n",
       "      <th>CLIMATE.REGION</th>\n",
       "      <th>ANOMALY.LEVEL</th>\n",
       "      <th>CLIMATE.CATEGORY</th>\n",
       "      <th>OUTAGE.START.DATE</th>\n",
       "      <th>OUTAGE.START.TIME</th>\n",
       "      <th>...</th>\n",
       "      <th>POPPCT_URBAN</th>\n",
       "      <th>POPPCT_UC</th>\n",
       "      <th>POPDEN_URBAN</th>\n",
       "      <th>POPDEN_UC</th>\n",
       "      <th>POPDEN_RURAL</th>\n",
       "      <th>AREAPCT_URBAN</th>\n",
       "      <th>AREAPCT_UC</th>\n",
       "      <th>PCT_LAND</th>\n",
       "      <th>PCT_WATER_TOT</th>\n",
       "      <th>PCT_WATER_INLAND</th>\n",
       "    </tr>\n",
       "  </thead>\n",
       "  <tbody>\n",
       "    <tr>\n",
       "      <th>0</th>\n",
       "      <td>2000</td>\n",
       "      <td>NaN</td>\n",
       "      <td>North Carolina</td>\n",
       "      <td>NC</td>\n",
       "      <td>SERC</td>\n",
       "      <td>Southeast</td>\n",
       "      <td>NaN</td>\n",
       "      <td>NaN</td>\n",
       "      <td>NaN</td>\n",
       "      <td>NaN</td>\n",
       "      <td>...</td>\n",
       "      <td>66.09</td>\n",
       "      <td>11.21</td>\n",
       "      <td>1367.2</td>\n",
       "      <td>1043.7</td>\n",
       "      <td>73.5</td>\n",
       "      <td>9.48</td>\n",
       "      <td>2.11</td>\n",
       "      <td>90.336127</td>\n",
       "      <td>9.663873</td>\n",
       "      <td>7.52894</td>\n",
       "    </tr>\n",
       "    <tr>\n",
       "      <th>1</th>\n",
       "      <td>2000</td>\n",
       "      <td>6</td>\n",
       "      <td>California</td>\n",
       "      <td>CA</td>\n",
       "      <td>WECC</td>\n",
       "      <td>West</td>\n",
       "      <td>-0.7</td>\n",
       "      <td>cold</td>\n",
       "      <td>2000-06-14 00:00:00</td>\n",
       "      <td>13:13:00</td>\n",
       "      <td>...</td>\n",
       "      <td>94.95</td>\n",
       "      <td>5.22</td>\n",
       "      <td>4303.7</td>\n",
       "      <td>2124.1</td>\n",
       "      <td>12.7</td>\n",
       "      <td>5.28</td>\n",
       "      <td>0.59</td>\n",
       "      <td>95.164177</td>\n",
       "      <td>4.835823</td>\n",
       "      <td>1.730658</td>\n",
       "    </tr>\n",
       "    <tr>\n",
       "      <th>2</th>\n",
       "      <td>2000</td>\n",
       "      <td>5</td>\n",
       "      <td>Texas</td>\n",
       "      <td>TX</td>\n",
       "      <td>TRE</td>\n",
       "      <td>South</td>\n",
       "      <td>-0.7</td>\n",
       "      <td>cold</td>\n",
       "      <td>2000-05-02 00:00:00</td>\n",
       "      <td>04:00:00</td>\n",
       "      <td>...</td>\n",
       "      <td>84.7</td>\n",
       "      <td>9.35</td>\n",
       "      <td>2435.3</td>\n",
       "      <td>1539.9</td>\n",
       "      <td>15.2</td>\n",
       "      <td>3.35</td>\n",
       "      <td>0.58</td>\n",
       "      <td>97.258336</td>\n",
       "      <td>2.742036</td>\n",
       "      <td>2.090873</td>\n",
       "    </tr>\n",
       "  </tbody>\n",
       "</table>\n",
       "<p>3 rows × 55 columns</p>\n",
       "</div>"
      ],
      "text/plain": [
       "   YEAR MONTH      U.S._STATE POSTAL.CODE NERC.REGION CLIMATE.REGION  \\\n",
       "0  2000   NaN  North Carolina          NC        SERC      Southeast   \n",
       "1  2000     6      California          CA        WECC           West   \n",
       "2  2000     5           Texas          TX         TRE          South   \n",
       "\n",
       "  ANOMALY.LEVEL CLIMATE.CATEGORY    OUTAGE.START.DATE OUTAGE.START.TIME  ...  \\\n",
       "0           NaN              NaN                  NaN               NaN  ...   \n",
       "1          -0.7             cold  2000-06-14 00:00:00          13:13:00  ...   \n",
       "2          -0.7             cold  2000-05-02 00:00:00          04:00:00  ...   \n",
       "\n",
       "  POPPCT_URBAN POPPCT_UC POPDEN_URBAN POPDEN_UC POPDEN_RURAL AREAPCT_URBAN  \\\n",
       "0        66.09     11.21       1367.2    1043.7         73.5          9.48   \n",
       "1        94.95      5.22       4303.7    2124.1         12.7          5.28   \n",
       "2         84.7      9.35       2435.3    1539.9         15.2          3.35   \n",
       "\n",
       "  AREAPCT_UC   PCT_LAND PCT_WATER_TOT PCT_WATER_INLAND  \n",
       "0       2.11  90.336127      9.663873          7.52894  \n",
       "1       0.59  95.164177      4.835823         1.730658  \n",
       "2       0.58  97.258336      2.742036         2.090873  \n",
       "\n",
       "[3 rows x 55 columns]"
      ]
     },
     "execution_count": 4,
     "metadata": {},
     "output_type": "execute_result"
    }
   ],
   "source": [
    "# Show the cleaned dataset\n",
    "df.head(3)"
   ]
  },
  {
   "cell_type": "code",
   "execution_count": 5,
   "metadata": {
    "scrolled": true
   },
   "outputs": [
    {
     "data": {
      "text/plain": [
       "YEAR                       0.000000\n",
       "MONTH                      0.005219\n",
       "U.S._STATE                 0.000000\n",
       "POSTAL.CODE                0.000000\n",
       "NERC.REGION                0.000000\n",
       "CLIMATE.REGION             0.003262\n",
       "ANOMALY.LEVEL              0.005219\n",
       "CLIMATE.CATEGORY           0.005219\n",
       "OUTAGE.START.DATE          0.005219\n",
       "OUTAGE.START.TIME          0.005219\n",
       "OUTAGE.RESTORATION.DATE    0.037182\n",
       "OUTAGE.RESTORATION.TIME    0.037182\n",
       "CAUSE.CATEGORY             0.000000\n",
       "CAUSE.CATEGORY.DETAIL      0.307241\n",
       "HURRICANE.NAMES            0.953033\n",
       "dtype: float64"
      ]
     },
     "execution_count": 5,
     "metadata": {},
     "output_type": "execute_result"
    }
   ],
   "source": [
    "# Examine the proportion of missing values in each column\n",
    "df.isna().mean().head(15) "
   ]
  },
  {
   "cell_type": "markdown",
   "metadata": {},
   "source": [
    "Since the missingness in `HURRICANE.NAMES` is approximately 0.96, we have decided not to drop the NaN values."
   ]
  },
  {
   "cell_type": "markdown",
   "metadata": {},
   "source": [
    "Next, we examine the data type of each column."
   ]
  },
  {
   "cell_type": "code",
   "execution_count": 6,
   "metadata": {},
   "outputs": [],
   "source": [
    "datetime_columns = ['OUTAGE.START.DATE', 'OUTAGE.START.TIME', 'OUTAGE.RESTORATION.DATE', 'OUTAGE.RESTORATION.TIME']"
   ]
  },
  {
   "cell_type": "code",
   "execution_count": 7,
   "metadata": {},
   "outputs": [],
   "source": [
    "target_numeric_col = list(df.columns[0:df.shape[1]-2])\n",
    "# Keep datatime columns away from converting process\n",
    "for col in datetime_columns:\n",
    "    target_numeric_col.remove(col)\n",
    "for i in range(len(target_numeric_col)):\n",
    "    temp_col = target_numeric_col[i]\n",
    "    df[temp_col] = pd.to_numeric(df[temp_col],errors = 'ignore')\n",
    "df['MONTH'] = df['MONTH'].astype('Int16')"
   ]
  },
  {
   "cell_type": "code",
   "execution_count": 8,
   "metadata": {},
   "outputs": [
    {
     "data": {
      "text/plain": [
       "YEAR                         int64\n",
       "MONTH                        Int16\n",
       "U.S._STATE                  object\n",
       "POSTAL.CODE                 object\n",
       "NERC.REGION                 object\n",
       "CLIMATE.REGION              object\n",
       "ANOMALY.LEVEL              float64\n",
       "CLIMATE.CATEGORY            object\n",
       "OUTAGE.START.DATE           object\n",
       "OUTAGE.START.TIME           object\n",
       "OUTAGE.RESTORATION.DATE     object\n",
       "OUTAGE.RESTORATION.TIME     object\n",
       "CAUSE.CATEGORY              object\n",
       "CAUSE.CATEGORY.DETAIL       object\n",
       "HURRICANE.NAMES             object\n",
       "OUTAGE.DURATION            float64\n",
       "DEMAND.LOSS.MW             float64\n",
       "CUSTOMERS.AFFECTED         float64\n",
       "RES.PRICE                  float64\n",
       "COM.PRICE                  float64\n",
       "IND.PRICE                  float64\n",
       "TOTAL.PRICE                float64\n",
       "RES.SALES                  float64\n",
       "COM.SALES                  float64\n",
       "IND.SALES                  float64\n",
       "TOTAL.SALES                float64\n",
       "RES.PERCEN                 float64\n",
       "COM.PERCEN                 float64\n",
       "IND.PERCEN                 float64\n",
       "RES.CUSTOMERS                int64\n",
       "COM.CUSTOMERS                int64\n",
       "IND.CUSTOMERS                int64\n",
       "TOTAL.CUSTOMERS              int64\n",
       "RES.CUST.PCT               float64\n",
       "COM.CUST.PCT               float64\n",
       "IND.CUST.PCT               float64\n",
       "PC.REALGSP.STATE             int64\n",
       "PC.REALGSP.USA               int64\n",
       "PC.REALGSP.REL             float64\n",
       "PC.REALGSP.CHANGE          float64\n",
       "UTIL.REALGSP                 int64\n",
       "TOTAL.REALGSP                int64\n",
       "UTIL.CONTRI                float64\n",
       "PI.UTIL.OFUSA              float64\n",
       "POPULATION                   int64\n",
       "POPPCT_URBAN               float64\n",
       "POPPCT_UC                  float64\n",
       "POPDEN_URBAN               float64\n",
       "POPDEN_UC                  float64\n",
       "POPDEN_RURAL               float64\n",
       "AREAPCT_URBAN              float64\n",
       "AREAPCT_UC                 float64\n",
       "PCT_LAND                   float64\n",
       "PCT_WATER_TOT               object\n",
       "PCT_WATER_INLAND            object\n",
       "dtype: object"
      ]
     },
     "execution_count": 8,
     "metadata": {},
     "output_type": "execute_result"
    }
   ],
   "source": [
    "# Check whether the data type is converted\n",
    "df.dtypes"
   ]
  },
  {
   "cell_type": "markdown",
   "metadata": {},
   "source": [
    "# Data Visualization"
   ]
  },
  {
   "cell_type": "markdown",
   "metadata": {},
   "source": [
    "The following graph shows how different climate categories are associated with the causes of outages.<br> This will help us identify the main reasons for outages for each climate category (cold, normal, warm)."
   ]
  },
  {
   "cell_type": "code",
   "execution_count": 9,
   "metadata": {
    "scrolled": false
   },
   "outputs": [
    {
     "data": {
      "image/png": "[encoded data removed]",
      "text/plain": [
       "<Figure size 576x432 with 1 Axes>"
      ]
     },
     "metadata": {
      "needs_background": "light"
     },
     "output_type": "display_data"
    }
   ],
   "source": [
    "cross_tab = pd.crosstab(df['CLIMATE.CATEGORY'], df['CAUSE.CATEGORY'])\n",
    "\n",
    "# Plot the bar chart\n",
    "cross_tab.plot(kind='bar', figsize=(8, 6))\n",
    "\n",
    "# Add labels and title\n",
    "plt.xlabel('Climate Category')\n",
    "plt.ylabel('Count')\n",
    "plt.title('Climate Category vs Cause Category')\n",
    "plt.show()"
   ]
  },
  {
   "cell_type": "markdown",
   "metadata": {},
   "source": [
    "According to the graph above, it appears that severe weather and intentional attacks are the primary reasons for most of the outages across all climate categories. System operability disruptions are not the main cause of outages in any climate category. But, we also note that a lower frequency does not mean a lower severity to people's living standards or a lower number of affect customers."
   ]
  },
  {
   "cell_type": "markdown",
   "metadata": {},
   "source": [
    "Next, we want to explore the frequency of each `CAUSE.CATEGORY`."
   ]
  },
  {
   "cell_type": "code",
   "execution_count": 10,
   "metadata": {
    "scrolled": false
   },
   "outputs": [
    {
     "data": {
      "image/png": "[encoded data removed]",
      "text/plain": [
       "<Figure size 720x432 with 1 Axes>"
      ]
     },
     "metadata": {
      "needs_background": "light"
     },
     "output_type": "display_data"
    }
   ],
   "source": [
    "cause_categories = df[\"CAUSE.CATEGORY\"]\n",
    "\n",
    "# Count the occurrences of each unique value in the \"CAUSE.CATEGORY\" column\n",
    "cause_category_counts = cause_categories.value_counts()\n",
    "\n",
    "# Select the bottom five (least occurring) values\n",
    "least_five_causes = cause_category_counts.tail(5)\n",
    "\n",
    "# Plot the bar graph for the least occurring values\n",
    "plt.figure(figsize=(10, 6))\n",
    "least_five_causes.plot(kind=\"bar\", color=\"lightcoral\")\n",
    "plt.title(\"Least Occurring CAUSE.CATEGORY\")\n",
    "plt.xlabel(\"CAUSE.CATEGORY\")\n",
    "plt.ylabel(\"Frequency\")\n",
    "plt.xticks(rotation=45, ha=\"right\")\n",
    "plt.tight_layout()\n",
    "plt.show()"
   ]
  },
  {
   "cell_type": "code",
   "execution_count": 11,
   "metadata": {},
   "outputs": [
    {
     "data": {
      "image/png": "[encoded data removed]",
      "text/plain": [
       "<Figure size 720x432 with 1 Axes>"
      ]
     },
     "metadata": {
      "needs_background": "light"
     },
     "output_type": "display_data"
    }
   ],
   "source": [
    "cause_categories = df[\"CAUSE.CATEGORY\"]\n",
    "\n",
    "# Count the occurrences of each unique value in the \"CAUSE.CATEGORY\" column\n",
    "cause_category_counts = cause_categories.value_counts()\n",
    "\n",
    "# Select the top five occurring values\n",
    "top_five_causes = cause_category_counts.head(5)\n",
    "\n",
    "# Plot the bar graph\n",
    "plt.figure(figsize=(10, 6))\n",
    "top_five_causes.plot(kind=\"bar\", color=\"skyblue\")\n",
    "plt.title(\"Top Five Occurring CAUSE.CATEGORY\")\n",
    "plt.xlabel(\"CAUSE.CATEGORY\")\n",
    "plt.ylabel(\"Frequency\")\n",
    "plt.xticks(rotation=45, ha=\"right\")\n",
    "plt.tight_layout()\n",
    "plt.show()"
   ]
  },
  {
   "cell_type": "markdown",
   "metadata": {},
   "source": [
    "# Data Analysis & Results"
   ]
  },
  {
   "cell_type": "code",
   "execution_count": 12,
   "metadata": {
    "scrolled": true
   },
   "outputs": [
    {
     "data": {
      "text/html": [
       "<div>\n",
       "<style scoped>\n",
       "    .dataframe tbody tr th:only-of-type {\n",
       "        vertical-align: middle;\n",
       "    }\n",
       "\n",
       "    .dataframe tbody tr th {\n",
       "        vertical-align: top;\n",
       "    }\n",
       "\n",
       "    .dataframe thead th {\n",
       "        text-align: right;\n",
       "    }\n",
       "</style>\n",
       "<table border=\"1\" class=\"dataframe\">\n",
       "  <thead>\n",
       "    <tr style=\"text-align: right;\">\n",
       "      <th></th>\n",
       "      <th>YEAR</th>\n",
       "      <th>MONTH</th>\n",
       "      <th>ANOMALY.LEVEL</th>\n",
       "      <th>OUTAGE.DURATION</th>\n",
       "      <th>DEMAND.LOSS.MW</th>\n",
       "      <th>CUSTOMERS.AFFECTED</th>\n",
       "      <th>RES.PRICE</th>\n",
       "      <th>COM.PRICE</th>\n",
       "      <th>IND.PRICE</th>\n",
       "      <th>TOTAL.PRICE</th>\n",
       "      <th>...</th>\n",
       "      <th>PI.UTIL.OFUSA</th>\n",
       "      <th>POPULATION</th>\n",
       "      <th>POPPCT_URBAN</th>\n",
       "      <th>POPPCT_UC</th>\n",
       "      <th>POPDEN_URBAN</th>\n",
       "      <th>POPDEN_UC</th>\n",
       "      <th>POPDEN_RURAL</th>\n",
       "      <th>AREAPCT_URBAN</th>\n",
       "      <th>AREAPCT_UC</th>\n",
       "      <th>PCT_LAND</th>\n",
       "    </tr>\n",
       "  </thead>\n",
       "  <tbody>\n",
       "    <tr>\n",
       "      <th>count</th>\n",
       "      <td>1533.000000</td>\n",
       "      <td>1525.000000</td>\n",
       "      <td>1525.000000</td>\n",
       "      <td>1476.000000</td>\n",
       "      <td>828.000000</td>\n",
       "      <td>1.090000e+03</td>\n",
       "      <td>1512.000000</td>\n",
       "      <td>1512.000000</td>\n",
       "      <td>1512.000000</td>\n",
       "      <td>1512.000000</td>\n",
       "      <td>...</td>\n",
       "      <td>1533.000000</td>\n",
       "      <td>1.533000e+03</td>\n",
       "      <td>1533.000000</td>\n",
       "      <td>1533.000000</td>\n",
       "      <td>1533.000000</td>\n",
       "      <td>1523.000000</td>\n",
       "      <td>1523.000000</td>\n",
       "      <td>1533.000000</td>\n",
       "      <td>1533.000000</td>\n",
       "      <td>1533.000000</td>\n",
       "    </tr>\n",
       "    <tr>\n",
       "      <th>mean</th>\n",
       "      <td>2010.125897</td>\n",
       "      <td>6.234754</td>\n",
       "      <td>-0.096852</td>\n",
       "      <td>2625.398374</td>\n",
       "      <td>536.892512</td>\n",
       "      <td>1.435747e+05</td>\n",
       "      <td>11.968373</td>\n",
       "      <td>10.135053</td>\n",
       "      <td>7.341468</td>\n",
       "      <td>10.117851</td>\n",
       "      <td>...</td>\n",
       "      <td>4.302022</td>\n",
       "      <td>1.320220e+07</td>\n",
       "      <td>80.976862</td>\n",
       "      <td>9.537430</td>\n",
       "      <td>2594.691324</td>\n",
       "      <td>1558.226330</td>\n",
       "      <td>39.499146</td>\n",
       "      <td>8.609928</td>\n",
       "      <td>1.118324</td>\n",
       "      <td>90.161389</td>\n",
       "    </tr>\n",
       "    <tr>\n",
       "      <th>std</th>\n",
       "      <td>3.814797</td>\n",
       "      <td>3.254510</td>\n",
       "      <td>0.739957</td>\n",
       "      <td>5942.483307</td>\n",
       "      <td>2197.708742</td>\n",
       "      <td>2.870913e+05</td>\n",
       "      <td>3.088631</td>\n",
       "      <td>2.824150</td>\n",
       "      <td>2.473902</td>\n",
       "      <td>2.905234</td>\n",
       "      <td>...</td>\n",
       "      <td>4.009654</td>\n",
       "      <td>1.155327e+07</td>\n",
       "      <td>11.897779</td>\n",
       "      <td>5.233024</td>\n",
       "      <td>1083.364687</td>\n",
       "      <td>313.168594</td>\n",
       "      <td>30.883974</td>\n",
       "      <td>11.136261</td>\n",
       "      <td>0.995353</td>\n",
       "      <td>10.521931</td>\n",
       "    </tr>\n",
       "    <tr>\n",
       "      <th>min</th>\n",
       "      <td>2000.000000</td>\n",
       "      <td>1.000000</td>\n",
       "      <td>-1.600000</td>\n",
       "      <td>0.000000</td>\n",
       "      <td>0.000000</td>\n",
       "      <td>0.000000e+00</td>\n",
       "      <td>5.650000</td>\n",
       "      <td>4.700000</td>\n",
       "      <td>3.200000</td>\n",
       "      <td>4.700000</td>\n",
       "      <td>...</td>\n",
       "      <td>0.200000</td>\n",
       "      <td>5.598510e+05</td>\n",
       "      <td>38.660000</td>\n",
       "      <td>0.000000</td>\n",
       "      <td>1232.600000</td>\n",
       "      <td>988.700000</td>\n",
       "      <td>1.400000</td>\n",
       "      <td>0.200000</td>\n",
       "      <td>0.000000</td>\n",
       "      <td>58.459995</td>\n",
       "    </tr>\n",
       "    <tr>\n",
       "      <th>25%</th>\n",
       "      <td>2008.000000</td>\n",
       "      <td>4.000000</td>\n",
       "      <td>-0.500000</td>\n",
       "      <td>102.250000</td>\n",
       "      <td>3.000000</td>\n",
       "      <td>9.625000e+03</td>\n",
       "      <td>9.540000</td>\n",
       "      <td>8.017500</td>\n",
       "      <td>5.697500</td>\n",
       "      <td>7.957500</td>\n",
       "      <td>...</td>\n",
       "      <td>1.100000</td>\n",
       "      <td>5.310903e+06</td>\n",
       "      <td>74.570000</td>\n",
       "      <td>5.220000</td>\n",
       "      <td>2016.300000</td>\n",
       "      <td>1307.800000</td>\n",
       "      <td>15.200000</td>\n",
       "      <td>3.350000</td>\n",
       "      <td>0.590000</td>\n",
       "      <td>86.382550</td>\n",
       "    </tr>\n",
       "    <tr>\n",
       "      <th>50%</th>\n",
       "      <td>2011.000000</td>\n",
       "      <td>6.000000</td>\n",
       "      <td>-0.300000</td>\n",
       "      <td>701.000000</td>\n",
       "      <td>168.000000</td>\n",
       "      <td>7.046400e+04</td>\n",
       "      <td>11.460000</td>\n",
       "      <td>9.465000</td>\n",
       "      <td>6.710000</td>\n",
       "      <td>9.410000</td>\n",
       "      <td>...</td>\n",
       "      <td>2.300000</td>\n",
       "      <td>8.769252e+06</td>\n",
       "      <td>84.050000</td>\n",
       "      <td>9.080000</td>\n",
       "      <td>2380.000000</td>\n",
       "      <td>1528.600000</td>\n",
       "      <td>29.500000</td>\n",
       "      <td>5.280000</td>\n",
       "      <td>0.970000</td>\n",
       "      <td>95.164177</td>\n",
       "    </tr>\n",
       "    <tr>\n",
       "      <th>75%</th>\n",
       "      <td>2013.000000</td>\n",
       "      <td>9.000000</td>\n",
       "      <td>0.300000</td>\n",
       "      <td>2880.000000</td>\n",
       "      <td>400.000000</td>\n",
       "      <td>1.500000e+05</td>\n",
       "      <td>13.900000</td>\n",
       "      <td>11.340000</td>\n",
       "      <td>8.590000</td>\n",
       "      <td>11.740000</td>\n",
       "      <td>...</td>\n",
       "      <td>7.400000</td>\n",
       "      <td>1.940292e+07</td>\n",
       "      <td>89.810000</td>\n",
       "      <td>12.020000</td>\n",
       "      <td>2851.200000</td>\n",
       "      <td>1732.200000</td>\n",
       "      <td>54.600000</td>\n",
       "      <td>8.680000</td>\n",
       "      <td>1.460000</td>\n",
       "      <td>97.258336</td>\n",
       "    </tr>\n",
       "    <tr>\n",
       "      <th>max</th>\n",
       "      <td>2016.000000</td>\n",
       "      <td>12.000000</td>\n",
       "      <td>2.300000</td>\n",
       "      <td>108653.000000</td>\n",
       "      <td>41788.000000</td>\n",
       "      <td>3.241437e+06</td>\n",
       "      <td>34.580000</td>\n",
       "      <td>32.140000</td>\n",
       "      <td>27.850000</td>\n",
       "      <td>31.290000</td>\n",
       "      <td>...</td>\n",
       "      <td>12.300000</td>\n",
       "      <td>3.929648e+07</td>\n",
       "      <td>100.000000</td>\n",
       "      <td>40.250000</td>\n",
       "      <td>9856.500000</td>\n",
       "      <td>2220.700000</td>\n",
       "      <td>142.300000</td>\n",
       "      <td>100.000000</td>\n",
       "      <td>6.210000</td>\n",
       "      <td>99.759849</td>\n",
       "    </tr>\n",
       "  </tbody>\n",
       "</table>\n",
       "<p>8 rows × 41 columns</p>\n",
       "</div>"
      ],
      "text/plain": [
       "              YEAR        MONTH  ANOMALY.LEVEL  OUTAGE.DURATION  \\\n",
       "count  1533.000000  1525.000000    1525.000000      1476.000000   \n",
       "mean   2010.125897     6.234754      -0.096852      2625.398374   \n",
       "std       3.814797     3.254510       0.739957      5942.483307   \n",
       "min    2000.000000     1.000000      -1.600000         0.000000   \n",
       "25%    2008.000000     4.000000      -0.500000       102.250000   \n",
       "50%    2011.000000     6.000000      -0.300000       701.000000   \n",
       "75%    2013.000000     9.000000       0.300000      2880.000000   \n",
       "max    2016.000000    12.000000       2.300000    108653.000000   \n",
       "\n",
       "       DEMAND.LOSS.MW  CUSTOMERS.AFFECTED    RES.PRICE    COM.PRICE  \\\n",
       "count      828.000000        1.090000e+03  1512.000000  1512.000000   \n",
       "mean       536.892512        1.435747e+05    11.968373    10.135053   \n",
       "std       2197.708742        2.870913e+05     3.088631     2.824150   \n",
       "min          0.000000        0.000000e+00     5.650000     4.700000   \n",
       "25%          3.000000        9.625000e+03     9.540000     8.017500   \n",
       "50%        168.000000        7.046400e+04    11.460000     9.465000   \n",
       "75%        400.000000        1.500000e+05    13.900000    11.340000   \n",
       "max      41788.000000        3.241437e+06    34.580000    32.140000   \n",
       "\n",
       "         IND.PRICE  TOTAL.PRICE  ...  PI.UTIL.OFUSA    POPULATION  \\\n",
       "count  1512.000000  1512.000000  ...    1533.000000  1.533000e+03   \n",
       "mean      7.341468    10.117851  ...       4.302022  1.320220e+07   \n",
       "std       2.473902     2.905234  ...       4.009654  1.155327e+07   \n",
       "min       3.200000     4.700000  ...       0.200000  5.598510e+05   \n",
       "25%       5.697500     7.957500  ...       1.100000  5.310903e+06   \n",
       "50%       6.710000     9.410000  ...       2.300000  8.769252e+06   \n",
       "75%       8.590000    11.740000  ...       7.400000  1.940292e+07   \n",
       "max      27.850000    31.290000  ...      12.300000  3.929648e+07   \n",
       "\n",
       "       POPPCT_URBAN    POPPCT_UC  POPDEN_URBAN    POPDEN_UC  POPDEN_RURAL  \\\n",
       "count   1533.000000  1533.000000   1533.000000  1523.000000   1523.000000   \n",
       "mean      80.976862     9.537430   2594.691324  1558.226330     39.499146   \n",
       "std       11.897779     5.233024   1083.364687   313.168594     30.883974   \n",
       "min       38.660000     0.000000   1232.600000   988.700000      1.400000   \n",
       "25%       74.570000     5.220000   2016.300000  1307.800000     15.200000   \n",
       "50%       84.050000     9.080000   2380.000000  1528.600000     29.500000   \n",
       "75%       89.810000    12.020000   2851.200000  1732.200000     54.600000   \n",
       "max      100.000000    40.250000   9856.500000  2220.700000    142.300000   \n",
       "\n",
       "       AREAPCT_URBAN   AREAPCT_UC     PCT_LAND  \n",
       "count    1533.000000  1533.000000  1533.000000  \n",
       "mean        8.609928     1.118324    90.161389  \n",
       "std        11.136261     0.995353    10.521931  \n",
       "min         0.200000     0.000000    58.459995  \n",
       "25%         3.350000     0.590000    86.382550  \n",
       "50%         5.280000     0.970000    95.164177  \n",
       "75%         8.680000     1.460000    97.258336  \n",
       "max       100.000000     6.210000    99.759849  \n",
       "\n",
       "[8 rows x 41 columns]"
      ]
     },
     "execution_count": 12,
     "metadata": {},
     "output_type": "execute_result"
    }
   ],
   "source": [
    "# Briefly examine the basic statistics of the dataset\n",
    "df.describe()"
   ]
  },
  {
   "cell_type": "markdown",
   "metadata": {},
   "source": [
    "To make the columns more concise and easy to read, we decided to combine some duplicate columns into one datetime column."
   ]
  },
  {
   "cell_type": "code",
   "execution_count": 13,
   "metadata": {
    "scrolled": true
   },
   "outputs": [
    {
     "data": {
      "text/html": [
       "<div>\n",
       "<style scoped>\n",
       "    .dataframe tbody tr th:only-of-type {\n",
       "        vertical-align: middle;\n",
       "    }\n",
       "\n",
       "    .dataframe tbody tr th {\n",
       "        vertical-align: top;\n",
       "    }\n",
       "\n",
       "    .dataframe thead th {\n",
       "        text-align: right;\n",
       "    }\n",
       "</style>\n",
       "<table border=\"1\" class=\"dataframe\">\n",
       "  <thead>\n",
       "    <tr style=\"text-align: right;\">\n",
       "      <th></th>\n",
       "      <th>OUTAGE.START.DATE</th>\n",
       "      <th>OUTAGE.START.TIME</th>\n",
       "      <th>OUTAGE.RESTORATION.DATE</th>\n",
       "      <th>OUTAGE.RESTORATION.TIME</th>\n",
       "    </tr>\n",
       "  </thead>\n",
       "  <tbody>\n",
       "    <tr>\n",
       "      <th>0</th>\n",
       "      <td>NaN</td>\n",
       "      <td>NaN</td>\n",
       "      <td>NaN</td>\n",
       "      <td>NaN</td>\n",
       "    </tr>\n",
       "    <tr>\n",
       "      <th>1</th>\n",
       "      <td>2000-06-14 00:00:00</td>\n",
       "      <td>13:13:00</td>\n",
       "      <td>NaN</td>\n",
       "      <td>NaN</td>\n",
       "    </tr>\n",
       "    <tr>\n",
       "      <th>2</th>\n",
       "      <td>2000-05-02 00:00:00</td>\n",
       "      <td>04:00:00</td>\n",
       "      <td>2000-05-02 00:00:00</td>\n",
       "      <td>12:00:00</td>\n",
       "    </tr>\n",
       "  </tbody>\n",
       "</table>\n",
       "</div>"
      ],
      "text/plain": [
       "     OUTAGE.START.DATE OUTAGE.START.TIME OUTAGE.RESTORATION.DATE  \\\n",
       "0                  NaN               NaN                     NaN   \n",
       "1  2000-06-14 00:00:00          13:13:00                     NaN   \n",
       "2  2000-05-02 00:00:00          04:00:00     2000-05-02 00:00:00   \n",
       "\n",
       "  OUTAGE.RESTORATION.TIME  \n",
       "0                     NaN  \n",
       "1                     NaN  \n",
       "2                12:00:00  "
      ]
     },
     "execution_count": 13,
     "metadata": {},
     "output_type": "execute_result"
    }
   ],
   "source": [
    "df[datetime_columns].head(3)"
   ]
  },
  {
   "cell_type": "code",
   "execution_count": 14,
   "metadata": {
    "scrolled": true
   },
   "outputs": [
    {
     "data": {
      "text/html": [
       "<div>\n",
       "<style scoped>\n",
       "    .dataframe tbody tr th:only-of-type {\n",
       "        vertical-align: middle;\n",
       "    }\n",
       "\n",
       "    .dataframe tbody tr th {\n",
       "        vertical-align: top;\n",
       "    }\n",
       "\n",
       "    .dataframe thead th {\n",
       "        text-align: right;\n",
       "    }\n",
       "</style>\n",
       "<table border=\"1\" class=\"dataframe\">\n",
       "  <thead>\n",
       "    <tr style=\"text-align: right;\">\n",
       "      <th></th>\n",
       "      <th>OUTAGE.START</th>\n",
       "      <th>OUTAGE.RESTORATION</th>\n",
       "    </tr>\n",
       "  </thead>\n",
       "  <tbody>\n",
       "    <tr>\n",
       "      <th>0</th>\n",
       "      <td>NaT</td>\n",
       "      <td>NaT</td>\n",
       "    </tr>\n",
       "    <tr>\n",
       "      <th>1</th>\n",
       "      <td>2000-06-14 13:13:00</td>\n",
       "      <td>NaT</td>\n",
       "    </tr>\n",
       "    <tr>\n",
       "      <th>2</th>\n",
       "      <td>2000-05-02 04:00:00</td>\n",
       "      <td>2000-05-02 12:00:00</td>\n",
       "    </tr>\n",
       "  </tbody>\n",
       "</table>\n",
       "</div>"
      ],
      "text/plain": [
       "         OUTAGE.START  OUTAGE.RESTORATION\n",
       "0                 NaT                 NaT\n",
       "1 2000-06-14 13:13:00                 NaT\n",
       "2 2000-05-02 04:00:00 2000-05-02 12:00:00"
      ]
     },
     "execution_count": 14,
     "metadata": {},
     "output_type": "execute_result"
    }
   ],
   "source": [
    "nan_value = 'nannan'\n",
    "date_ser_len = 11\n",
    "# Define a function to combine date and time strings into a new time format string\n",
    "def time_combiner(date_ser, time_ser):\n",
    "    return (date_ser.str[0:date_ser_len] + time_ser).replace([nan_value], np.NaN)\n",
    "\n",
    "# Convert individual date and time parts to strings\n",
    "for col in datetime_columns:\n",
    "    df[col] = df[col].astype(str) # convert a Datetime object series into a String series\n",
    "\n",
    "# Combine date and time parts into new datetime columns\n",
    "df['OUTAGE.START'] = pd.to_datetime(time_combiner(df[datetime_columns[0]], df[datetime_columns[1]]))\n",
    "df['OUTAGE.RESTORATION'] = pd.to_datetime(time_combiner(df[datetime_columns[2]], df[datetime_columns[3]]))\n",
    "\n",
    "# Drop the original date and time columns\n",
    "df.drop(columns=datetime_columns, inplace=True)\n",
    "\n",
    "# Show the converted results\n",
    "converted_columns = ['OUTAGE.START', 'OUTAGE.RESTORATION']\n",
    "df[converted_columns].head(3)"
   ]
  },
  {
   "cell_type": "code",
   "execution_count": 15,
   "metadata": {
    "scrolled": true
   },
   "outputs": [
    {
     "data": {
      "image/png": "[encoded data removed]",
      "text/plain": [
       "<Figure size 432x216 with 1 Axes>"
      ]
     },
     "metadata": {
      "needs_background": "light"
     },
     "output_type": "display_data"
    }
   ],
   "source": [
    "# Access the data of hour from timestamp object and convert it into integer\n",
    "outage_hours = df['OUTAGE.START'].transform(lambda x:x.hour).to_frame().astype('Int16')\n",
    "outage_hours_ser = outage_hours.groupby('OUTAGE.START').size()\n",
    "\n",
    "# Create the plot\n",
    "plt.figure(figsize=(6, 3))\n",
    "outage_hours_ser.plot()\n",
    "\n",
    "# Add labels and title\n",
    "plt.xlabel(\"Hour\")\n",
    "plt.ylabel(\"Frequency\")\n",
    "plt.title(\"Starting Hour in a Day\")\n",
    "\n",
    "# Show the plot\n",
    "plt.show()\n"
   ]
  },
  {
   "cell_type": "markdown",
   "metadata": {},
   "source": [
    "It turns out that the period from 1p.m. to 4p.m. has the biggest likelihood of outage."
   ]
  },
  {
   "cell_type": "code",
   "execution_count": 16,
   "metadata": {},
   "outputs": [
    {
     "data": {
      "image/png": "[encoded data removed]",
      "text/plain": [
       "<Figure size 432x216 with 1 Axes>"
      ]
     },
     "metadata": {
      "needs_background": "light"
     },
     "output_type": "display_data"
    }
   ],
   "source": [
    "outage_in_each_month_ser = df[['MONTH']].groupby('MONTH').size()\n",
    "\n",
    "# Create the bar chart\n",
    "plt.figure(figsize=(6,3))\n",
    "\n",
    "# Plot the bar chart\n",
    "outage_in_each_month_ser.plot(kind='bar')\n",
    "\n",
    "# Add labels and title\n",
    "plt.xlabel(\"Month\")\n",
    "plt.ylabel(\"Number of Outages\")\n",
    "plt.title(\"Number of Outages in Each Month\")\n",
    "\n",
    "# Show the bar chart\n",
    "plt.show()"
   ]
  },
  {
   "cell_type": "markdown",
   "metadata": {},
   "source": [
    "Based on the bar chart, it's evident that the number of outages is higher during the middle of a year (June, July, and August) compared to the rest of the year."
   ]
  },
  {
   "cell_type": "markdown",
   "metadata": {},
   "source": [
    "In the following cells, we explored the columns labeled `U.S._STATE` and `DEMAND.LOSS.MW` through geospatial analysis to understand how severe the lost in power is for each state."
   ]
  },
  {
   "cell_type": "code",
   "execution_count": 17,
   "metadata": {
    "scrolled": false
   },
   "outputs": [
    {
     "data": {
      "text/html": [
       "<div>\n",
       "<style scoped>\n",
       "    .dataframe tbody tr th:only-of-type {\n",
       "        vertical-align: middle;\n",
       "    }\n",
       "\n",
       "    .dataframe tbody tr th {\n",
       "        vertical-align: top;\n",
       "    }\n",
       "\n",
       "    .dataframe thead th {\n",
       "        text-align: right;\n",
       "    }\n",
       "</style>\n",
       "<table border=\"1\" class=\"dataframe\">\n",
       "  <thead>\n",
       "    <tr style=\"text-align: right;\">\n",
       "      <th></th>\n",
       "      <th>U.S._STATE</th>\n",
       "      <th>DEMAND.LOSS.MW</th>\n",
       "    </tr>\n",
       "  </thead>\n",
       "  <tbody>\n",
       "    <tr>\n",
       "      <th>0</th>\n",
       "      <td>North Carolina</td>\n",
       "      <td>175.0</td>\n",
       "    </tr>\n",
       "    <tr>\n",
       "      <th>1</th>\n",
       "      <td>California</td>\n",
       "      <td>130.0</td>\n",
       "    </tr>\n",
       "    <tr>\n",
       "      <th>2</th>\n",
       "      <td>Texas</td>\n",
       "      <td>NaN</td>\n",
       "    </tr>\n",
       "    <tr>\n",
       "      <th>3</th>\n",
       "      <td>Texas</td>\n",
       "      <td>NaN</td>\n",
       "    </tr>\n",
       "    <tr>\n",
       "      <th>4</th>\n",
       "      <td>Texas</td>\n",
       "      <td>400.0</td>\n",
       "    </tr>\n",
       "    <tr>\n",
       "      <th>...</th>\n",
       "      <td>...</td>\n",
       "      <td>...</td>\n",
       "    </tr>\n",
       "    <tr>\n",
       "      <th>1528</th>\n",
       "      <td>North Carolina</td>\n",
       "      <td>0.0</td>\n",
       "    </tr>\n",
       "    <tr>\n",
       "      <th>1529</th>\n",
       "      <td>New York</td>\n",
       "      <td>NaN</td>\n",
       "    </tr>\n",
       "    <tr>\n",
       "      <th>1530</th>\n",
       "      <td>New York</td>\n",
       "      <td>150.0</td>\n",
       "    </tr>\n",
       "    <tr>\n",
       "      <th>1531</th>\n",
       "      <td>Missouri</td>\n",
       "      <td>0.0</td>\n",
       "    </tr>\n",
       "    <tr>\n",
       "      <th>1532</th>\n",
       "      <td>Washington</td>\n",
       "      <td>NaN</td>\n",
       "    </tr>\n",
       "  </tbody>\n",
       "</table>\n",
       "<p>1533 rows × 2 columns</p>\n",
       "</div>"
      ],
      "text/plain": [
       "          U.S._STATE  DEMAND.LOSS.MW\n",
       "0     North Carolina           175.0\n",
       "1         California           130.0\n",
       "2              Texas             NaN\n",
       "3              Texas             NaN\n",
       "4              Texas           400.0\n",
       "...              ...             ...\n",
       "1528  North Carolina             0.0\n",
       "1529        New York             NaN\n",
       "1530        New York           150.0\n",
       "1531        Missouri             0.0\n",
       "1532      Washington             NaN\n",
       "\n",
       "[1533 rows x 2 columns]"
      ]
     },
     "execution_count": 17,
     "metadata": {},
     "output_type": "execute_result"
    }
   ],
   "source": [
    "demand_loss_state_df = df[['U.S._STATE', 'DEMAND.LOSS.MW']] \n",
    "demand_loss_state_df"
   ]
  },
  {
   "cell_type": "code",
   "execution_count": 18,
   "metadata": {},
   "outputs": [],
   "source": [
    "# Define the abbreviation of the states \n",
    "states_abbrev = {\n",
    "             \"Alabama\": \"AL\",\n",
    "             \"Alaska\": \"AK\",\n",
    "             \"Arizona\": \"AZ\",\n",
    "             \"Arkansas\": \"AR\",\n",
    "             \"California\": \"CA\",\n",
    "             \"Colorado\": \"CO\",\n",
    "             \"Connecticut\": \"CT\",\n",
    "             \"Delaware\": \"DE\",\n",
    "             \"Florida\": \"FL\",\n",
    "             \"Georgia\": \"GA\",\n",
    "             \"Hawaii\": \"HI\",\n",
    "             \"Idaho\": \"ID\",\n",
    "             \"Illinois\": \"IL\",\n",
    "             \"Indiana\": \"IN\",\n",
    "             \"Iowa\": \"IA\",\n",
    "             \"Kansas\": \"KS\",\n",
    "             \"Kentucky\": \"KY\",\n",
    "             \"Louisiana\": \"LA\",\n",
    "             \"Maine\": \"ME\",\n",
    "             \"Maryland\": \"MD\",\n",
    "             \"Massachusetts\": \"MA\",\n",
    "             \"Michigan\": \"MI\",\n",
    "             \"Minnesota\": \"MN\",\n",
    "             \"Mississippi\": \"MS\",\n",
    "             \"Missouri\": \"MO\",\n",
    "             \"Montana\": \"MT\",\n",
    "             \"Nebraska\": \"NE\",\n",
    "             \"Nevada\": \"NV\",\n",
    "             \"New Hampshire\": \"NH\",\n",
    "             \"New Jersey\": \"NJ\",\n",
    "             \"New Mexico\": \"NM\",\n",
    "             \"New York\": \"NY\",\n",
    "             \"North Carolina\": \"NC\",\n",
    "             \"North Dakota\": \"ND\",\n",
    "             \"Ohio\": \"OH\",\n",
    "             \"Oklahoma\": \"OK\",\n",
    "             \"Oregon\": \"OR\",\n",
    "             \"Pennsylvania\": \"PA\",\n",
    "             \"Rhode Island\": \"RI\",\n",
    "             \"South Carolina\": \"SC\",\n",
    "             \"South Dakota\": \"SD\",\n",
    "             \"Tennessee\": \"TN\",\n",
    "             \"Texas\": \"TX\",\n",
    "             \"Utah\": \"UT\",\n",
    "             \"Vermont\": \"VT\",\n",
    "             \"Virginia\": \"VA\",\n",
    "             \"Washington\": \"WA\",\n",
    "             \"West Virginia\": \"WV\",\n",
    "             \"Wisconsin\": \"WI\",\n",
    "             \"Wyoming\": \"WY\",\n",
    "             \"District of Columbia\": \"DC\"\n",
    "}"
   ]
  },
  {
   "cell_type": "code",
   "execution_count": 19,
   "metadata": {},
   "outputs": [],
   "source": [
    "# Define a function to transform the name of state to its abbreviated form\n",
    "def state_to_abbrev(state_full): \n",
    "    for key, value in states_abbrev.items():\n",
    "        if state_full == key: \n",
    "            return value"
   ]
  },
  {
   "cell_type": "code",
   "execution_count": 20,
   "metadata": {
    "scrolled": true
   },
   "outputs": [
    {
     "data": {
      "text/html": [
       "<div>\n",
       "<style scoped>\n",
       "    .dataframe tbody tr th:only-of-type {\n",
       "        vertical-align: middle;\n",
       "    }\n",
       "\n",
       "    .dataframe tbody tr th {\n",
       "        vertical-align: top;\n",
       "    }\n",
       "\n",
       "    .dataframe thead th {\n",
       "        text-align: right;\n",
       "    }\n",
       "</style>\n",
       "<table border=\"1\" class=\"dataframe\">\n",
       "  <thead>\n",
       "    <tr style=\"text-align: right;\">\n",
       "      <th></th>\n",
       "      <th>U.S._STATE</th>\n",
       "      <th>AVERAGE.DEMAND.LOSS.MW</th>\n",
       "    </tr>\n",
       "  </thead>\n",
       "  <tbody>\n",
       "    <tr>\n",
       "      <th>0</th>\n",
       "      <td>AL</td>\n",
       "      <td>291.500000</td>\n",
       "    </tr>\n",
       "    <tr>\n",
       "      <th>1</th>\n",
       "      <td>AZ</td>\n",
       "      <td>1245.700000</td>\n",
       "    </tr>\n",
       "    <tr>\n",
       "      <th>2</th>\n",
       "      <td>AR</td>\n",
       "      <td>149.900000</td>\n",
       "    </tr>\n",
       "    <tr>\n",
       "      <th>3</th>\n",
       "      <td>CA</td>\n",
       "      <td>667.594937</td>\n",
       "    </tr>\n",
       "    <tr>\n",
       "      <th>4</th>\n",
       "      <td>CO</td>\n",
       "      <td>154.636364</td>\n",
       "    </tr>\n",
       "  </tbody>\n",
       "</table>\n",
       "</div>"
      ],
      "text/plain": [
       "  U.S._STATE  AVERAGE.DEMAND.LOSS.MW\n",
       "0         AL              291.500000\n",
       "1         AZ             1245.700000\n",
       "2         AR              149.900000\n",
       "3         CA              667.594937\n",
       "4         CO              154.636364"
      ]
     },
     "execution_count": 20,
     "metadata": {},
     "output_type": "execute_result"
    }
   ],
   "source": [
    "# Calculate the average amount of peak demand lost in megawatts for each state\n",
    "average_loss = (demand_loss_state_df.groupby('U.S._STATE')\n",
    "                .mean()\n",
    "                .reset_index()\n",
    "                .rename(columns = {'DEMAND.LOSS.MW':'AVERAGE.DEMAND.LOSS.MW'})\n",
    "                )\n",
    "\n",
    "# Transform the states to be their abbreviated form\n",
    "average_loss['U.S._STATE'] = average_loss['U.S._STATE'].transform(state_to_abbrev) \n",
    "average_loss.head()"
   ]
  },
  {
   "cell_type": "code",
   "execution_count": 21,
   "metadata": {
    "scrolled": false
   },
   "outputs": [],
   "source": [
    "# Create a map that shows how severe the loss is for each state\n",
    "fig = px.choropleth(average_loss, locations='U.S._STATE',\n",
    "                    locationmode=\"USA-states\",\n",
    "                    scope=\"usa\",\n",
    "                    color='AVERAGE.DEMAND.LOSS.MW',\n",
    "                    color_continuous_scale=\"burg\",\n",
    "                    range_color = (0, 2500), # the maximum average is around 2400\n",
    "                    title = 'Average Peak Demand Lost of Power in Megawatt',\n",
    "                    labels = {'AVERAGE.DEMAND.LOSS.MW': 'Average Peak Demand Lost of Power (MW)'})\n",
    "# Label the states\n",
    "fig = fig.add_scattergeo(\n",
    "                locations = average_loss['U.S._STATE'], locationmode =\"USA-states\",\n",
    "                text = average_loss['U.S._STATE'],\n",
    "                mode = 'text',\n",
    "                ) "
   ]
  },
  {
   "cell_type": "markdown",
   "metadata": {},
   "source": [
    "Since `px.choropleth` will generate an interactive plot, which cannot be displayed properly on GitHub, we decided to use the PNG of the figure instead."
   ]
  },
  {
   "attachments": {
    "geoGraph.png": {
     "image/png": "[encoded data removed]"
    }
   },
   "cell_type": "markdown",
   "metadata": {},
   "source": [
    "![geoGraph.png](attachment:geoGraph.png)"
   ]
  },
  {
   "cell_type": "code",
   "execution_count": 22,
   "metadata": {
    "scrolled": true
   },
   "outputs": [
    {
     "data": {
      "text/html": [
       "<div>\n",
       "<style scoped>\n",
       "    .dataframe tbody tr th:only-of-type {\n",
       "        vertical-align: middle;\n",
       "    }\n",
       "\n",
       "    .dataframe tbody tr th {\n",
       "        vertical-align: top;\n",
       "    }\n",
       "\n",
       "    .dataframe thead th {\n",
       "        text-align: right;\n",
       "    }\n",
       "</style>\n",
       "<table border=\"1\" class=\"dataframe\">\n",
       "  <thead>\n",
       "    <tr style=\"text-align: right;\">\n",
       "      <th></th>\n",
       "      <th>U.S._STATE</th>\n",
       "      <th>AVERAGE.DEMAND.LOSS.MW</th>\n",
       "    </tr>\n",
       "  </thead>\n",
       "  <tbody>\n",
       "    <tr>\n",
       "      <th>20</th>\n",
       "      <td>MA</td>\n",
       "      <td>2392.200000</td>\n",
       "    </tr>\n",
       "    <tr>\n",
       "      <th>38</th>\n",
       "      <td>SC</td>\n",
       "      <td>1699.714286</td>\n",
       "    </tr>\n",
       "    <tr>\n",
       "      <th>31</th>\n",
       "      <td>NY</td>\n",
       "      <td>1283.147059</td>\n",
       "    </tr>\n",
       "    <tr>\n",
       "      <th>7</th>\n",
       "      <td>DC</td>\n",
       "      <td>1280.000000</td>\n",
       "    </tr>\n",
       "    <tr>\n",
       "      <th>1</th>\n",
       "      <td>AZ</td>\n",
       "      <td>1245.700000</td>\n",
       "    </tr>\n",
       "  </tbody>\n",
       "</table>\n",
       "</div>"
      ],
      "text/plain": [
       "   U.S._STATE  AVERAGE.DEMAND.LOSS.MW\n",
       "20         MA             2392.200000\n",
       "38         SC             1699.714286\n",
       "31         NY             1283.147059\n",
       "7          DC             1280.000000\n",
       "1          AZ             1245.700000"
      ]
     },
     "execution_count": 22,
     "metadata": {},
     "output_type": "execute_result"
    }
   ],
   "source": [
    "# Check the top 5 states with the most average loss\n",
    "average_loss.sort_values(by = 'AVERAGE.DEMAND.LOSS.MW',ascending = False).head()"
   ]
  },
  {
   "cell_type": "markdown",
   "metadata": {},
   "source": [
    "From the map and the table, we can see that the Massachusetts (MA) suffers from the largest loss of power demanded, followed by South Carolina (SC) and New York State (NY). When we think about NY, we think about the prospering and populated city: New York. Therefore, we dive deeper and investigate the relationship between `AVERAGE.POPULATION` across the years that power outages occurred, and `AVERAGE.DEMAND.LOSS.MW`."
   ]
  },
  {
   "cell_type": "code",
   "execution_count": 23,
   "metadata": {
    "scrolled": true
   },
   "outputs": [
    {
     "data": {
      "text/html": [
       "<div>\n",
       "<style scoped>\n",
       "    .dataframe tbody tr th:only-of-type {\n",
       "        vertical-align: middle;\n",
       "    }\n",
       "\n",
       "    .dataframe tbody tr th {\n",
       "        vertical-align: top;\n",
       "    }\n",
       "\n",
       "    .dataframe thead th {\n",
       "        text-align: right;\n",
       "    }\n",
       "</style>\n",
       "<table border=\"1\" class=\"dataframe\">\n",
       "  <thead>\n",
       "    <tr style=\"text-align: right;\">\n",
       "      <th></th>\n",
       "      <th>U.S._STATE</th>\n",
       "      <th>AVERAGE.POPULATION</th>\n",
       "      <th>AVERAGE.DEMAND.LOSS.MW</th>\n",
       "    </tr>\n",
       "  </thead>\n",
       "  <tbody>\n",
       "    <tr>\n",
       "      <th>0</th>\n",
       "      <td>AL</td>\n",
       "      <td>4.648740e+06</td>\n",
       "      <td>291.500000</td>\n",
       "    </tr>\n",
       "    <tr>\n",
       "      <th>1</th>\n",
       "      <td>AZ</td>\n",
       "      <td>6.321252e+06</td>\n",
       "      <td>1245.700000</td>\n",
       "    </tr>\n",
       "    <tr>\n",
       "      <th>2</th>\n",
       "      <td>AR</td>\n",
       "      <td>2.924665e+06</td>\n",
       "      <td>149.900000</td>\n",
       "    </tr>\n",
       "    <tr>\n",
       "      <th>3</th>\n",
       "      <td>CA</td>\n",
       "      <td>3.714503e+07</td>\n",
       "      <td>667.594937</td>\n",
       "    </tr>\n",
       "    <tr>\n",
       "      <th>4</th>\n",
       "      <td>CO</td>\n",
       "      <td>5.108534e+06</td>\n",
       "      <td>154.636364</td>\n",
       "    </tr>\n",
       "  </tbody>\n",
       "</table>\n",
       "</div>"
      ],
      "text/plain": [
       "  U.S._STATE  AVERAGE.POPULATION  AVERAGE.DEMAND.LOSS.MW\n",
       "0         AL        4.648740e+06              291.500000\n",
       "1         AZ        6.321252e+06             1245.700000\n",
       "2         AR        2.924665e+06              149.900000\n",
       "3         CA        3.714503e+07              667.594937\n",
       "4         CO        5.108534e+06              154.636364"
      ]
     },
     "execution_count": 23,
     "metadata": {},
     "output_type": "execute_result"
    }
   ],
   "source": [
    "# Generate a table of the average population and average demanded loss of power in mw.\n",
    "ave_loss_population_df = (df[['U.S._STATE', 'POPULATION','DEMAND.LOSS.MW']]\n",
    "                        .groupby('U.S._STATE')\n",
    "                        .mean()\n",
    "                        .reset_index()\n",
    "                        .rename(\n",
    "                         columns = {'DEMAND.LOSS.MW':'AVERAGE.DEMAND.LOSS.MW',\n",
    "                                    'POPULATION': 'AVERAGE.POPULATION'})\n",
    "                         )\n",
    "# Transform the states to be their abbreviated form.\n",
    "ave_loss_population_df['U.S._STATE'] = ave_loss_population_df['U.S._STATE'].transform(state_to_abbrev) \n",
    "ave_loss_population_df.head()"
   ]
  },
  {
   "cell_type": "code",
   "execution_count": 24,
   "metadata": {
    "scrolled": false
   },
   "outputs": [],
   "source": [
    "# Produce a scatter plot to discover any relationship\n",
    "fig = px.scatter(ave_loss_population_df,\n",
    "                x = 'AVERAGE.DEMAND.LOSS.MW', y = 'AVERAGE.POPULATION',\n",
    "                marginal_x = \"histogram\", \n",
    "                marginal_y = \"histogram\",\n",
    "                title = 'Average Loss of Power vs Average Population of Each State', \n",
    "                labels = {\"AVERAGE.DEMAND.LOSS.MW\": \"Average Demanded Loss of Power (mw)\",\n",
    "                     \"AVERAGE.POPULATION\": \"Average Population of Each State\"}\n",
    "                )"
   ]
  },
  {
   "cell_type": "markdown",
   "metadata": {},
   "source": [
    "Since `px.scatter` will generate an interactive plot, which cannot be displayed properly on GitHub, we decided to use the PNG of the figure instead."
   ]
  },
  {
   "attachments": {
    "scatter_plot.png": {
     "image/png": "[encoded data removed]"
    }
   },
   "cell_type": "markdown",
   "metadata": {},
   "source": [
    "![scatter_plot.png](attachment:scatter_plot.png)"
   ]
  },
  {
   "cell_type": "markdown",
   "metadata": {},
   "source": [
    "From the scatter plot above, we can see that the distribution of `POPULATION` is skewed, i.e., most states have relatively small populations. The same trend is discovered for the `AVERAGE.DEMAND.LOSS.MW`. Considering the average case, a large loss does not happen commonly for most states. <br><br>Speaking of the relationship, there may be some small positive correlation between the 2 variables, but they can also be negligible correlation that just happen. We can say conservatively, that those 2 vaiables are not very related to each other."
   ]
  },
  {
   "cell_type": "code",
   "execution_count": 25,
   "metadata": {},
   "outputs": [
    {
     "data": {
      "text/plain": [
       "0.26937865510754"
      ]
     },
     "execution_count": 25,
     "metadata": {},
     "output_type": "execute_result"
    }
   ],
   "source": [
    "# check the correlation coefficient of the 2 variables\n",
    "ave_loss_population_df['AVERAGE.POPULATION'].corr(ave_loss_population_df['AVERAGE.DEMAND.LOSS.MW'])"
   ]
  },
  {
   "cell_type": "markdown",
   "metadata": {},
   "source": [
    "### Hypothesis Test"
   ]
  },
  {
   "cell_type": "markdown",
   "metadata": {},
   "source": [
    "* **Null Hypothesis:** There is an equal impact between system operability disruption and non-system operability disruption on customers. The impact can be measured by the number of affected customers.<br>\n",
    "* **Alternative Hypothesis:** There is a difference in impact between system operability disruption and non-system operability disruption on customers."
   ]
  },
  {
   "cell_type": "code",
   "execution_count": 26,
   "metadata": {},
   "outputs": [
    {
     "data": {
      "text/html": [
       "<div>\n",
       "<style scoped>\n",
       "    .dataframe tbody tr th:only-of-type {\n",
       "        vertical-align: middle;\n",
       "    }\n",
       "\n",
       "    .dataframe tbody tr th {\n",
       "        vertical-align: top;\n",
       "    }\n",
       "\n",
       "    .dataframe thead th {\n",
       "        text-align: right;\n",
       "    }\n",
       "</style>\n",
       "<table border=\"1\" class=\"dataframe\">\n",
       "  <thead>\n",
       "    <tr style=\"text-align: right;\">\n",
       "      <th></th>\n",
       "      <th>CAUSE.CATEGORY</th>\n",
       "      <th>CUSTOMERS.AFFECTED</th>\n",
       "    </tr>\n",
       "  </thead>\n",
       "  <tbody>\n",
       "    <tr>\n",
       "      <th>0</th>\n",
       "      <td>severe weather</td>\n",
       "      <td>50000.0</td>\n",
       "    </tr>\n",
       "    <tr>\n",
       "      <th>1</th>\n",
       "      <td>system operability disruption</td>\n",
       "      <td>32000.0</td>\n",
       "    </tr>\n",
       "    <tr>\n",
       "      <th>2</th>\n",
       "      <td>severe weather</td>\n",
       "      <td>238000.0</td>\n",
       "    </tr>\n",
       "  </tbody>\n",
       "</table>\n",
       "</div>"
      ],
      "text/plain": [
       "                  CAUSE.CATEGORY  CUSTOMERS.AFFECTED\n",
       "0                 severe weather             50000.0\n",
       "1  system operability disruption             32000.0\n",
       "2                 severe weather            238000.0"
      ]
     },
     "execution_count": 26,
     "metadata": {},
     "output_type": "execute_result"
    }
   ],
   "source": [
    "# Obtain only CAUSE.CATEGORY and CUSTOMERS.AFFECTED\n",
    "selected_col = ['CAUSE.CATEGORY', 'CUSTOMERS.AFFECTED']\n",
    "cause_df = df[['CAUSE.CATEGORY', 'CUSTOMERS.AFFECTED']] \n",
    "\n",
    "# Drop rows with missing values\n",
    "cause_df = cause_df.dropna()\n",
    "cause_df.head(3)"
   ]
  },
  {
   "cell_type": "code",
   "execution_count": 27,
   "metadata": {},
   "outputs": [],
   "source": [
    "# Replace all occurrences of non system operability disruption with \"non system disruption\"\n",
    "cause_df.loc[cause_df['CAUSE.CATEGORY'] != 'system operability disruption', 'CAUSE.CATEGORY'] = 'non system disruption'\n",
    "\n",
    "# Group the data by 'CAUSE.CATEGORY' and calculate the mean of 'CUSTOMERS.AFFECTED'\n",
    "category_mean_customers = cause_df.groupby('CAUSE.CATEGORY')['CUSTOMERS.AFFECTED'].mean()"
   ]
  },
  {
   "cell_type": "code",
   "execution_count": 28,
   "metadata": {},
   "outputs": [
    {
     "data": {
      "image/png": "[encoded data removed]",
      "text/plain": [
       "<Figure size 432x288 with 1 Axes>"
      ]
     },
     "metadata": {
      "needs_background": "light"
     },
     "output_type": "display_data"
    }
   ],
   "source": [
    " # Create a bar plot to visualize the average customers affected per cause category\n",
    "category_mean_customers.plot(kind='bar')\n",
    "\n",
    "# Add labels and title to the plot\n",
    "plt.xlabel('Cause Category')\n",
    "plt.ylabel('Average Customers Affected')\n",
    "plt.title('Average Customers Affected by Cause Category')\n",
    "\n",
    "# Display the plot\n",
    "plt.show()"
   ]
  },
  {
   "cell_type": "markdown",
   "metadata": {},
   "source": [
    "As the difference between both seems to be different based on the group. We decided to use the **difference in mean** as our test statistic, instead of Kolmogorov-Smirnov test statistic, for example. "
   ]
  },
  {
   "cell_type": "code",
   "execution_count": 29,
   "metadata": {},
   "outputs": [
    {
     "name": "stdout",
     "output_type": "stream",
     "text": [
      "73054.12141515416\n"
     ]
    }
   ],
   "source": [
    "# Calculate the differences between mean values\n",
    "mean_diffs = category_mean_customers.diff()\n",
    "\n",
    "# Select the last element from the calculated differences\n",
    "observed_diff = mean_diffs.iloc[-1]\n",
    "\n",
    "# Print the observed difference\n",
    "print(observed_diff)"
   ]
  },
  {
   "cell_type": "markdown",
   "metadata": {},
   "source": [
    "* Since it is determined based on group distribution, we decided to perform a permutation test to observe the group distribution difference.<br>\n",
    "* Our permutation test has conducted 5000 simulations with a significant level of 0.05."
   ]
  },
  {
   "cell_type": "code",
   "execution_count": 30,
   "metadata": {},
   "outputs": [],
   "source": [
    "# Perform hypothesis tesing using permutation\n",
    "num_iterations = 5000\n",
    "diffs = []\n",
    "for i in range(num_iterations):\n",
    "    shuffle = cause_df.copy()\n",
    "    shuffle['CUSTOMERS.AFFECTED'] = np.random.permutation(shuffle['CUSTOMERS.AFFECTED'])\n",
    "    diff = shuffle.groupby('CAUSE.CATEGORY')['CUSTOMERS.AFFECTED'].apply(np.mean).diff().iloc[-1] \n",
    "    diffs.append(diff)"
   ]
  },
  {
   "cell_type": "code",
   "execution_count": 31,
   "metadata": {},
   "outputs": [
    {
     "data": {
      "text/plain": [
       "0.0228"
      ]
     },
     "execution_count": 31,
     "metadata": {},
     "output_type": "execute_result"
    }
   ],
   "source": [
    "# Calcualte the p-value\n",
    "p_val = np.mean(observed_diff <= diffs) \n",
    "p_val"
   ]
  },
  {
   "cell_type": "code",
   "execution_count": 32,
   "metadata": {
    "scrolled": false
   },
   "outputs": [
    {
     "data": {
      "image/png": "[encoded data removed]",
      "text/plain": [
       "<Figure size 576x432 with 1 Axes>"
      ]
     },
     "metadata": {
      "needs_background": "light"
     },
     "output_type": "display_data"
    }
   ],
   "source": [
    "# Data and title\n",
    "title = 'Histogram of TVD for CUSTOMERS.AFFECTED'\n",
    "plt.figure(figsize=(8, 6))\n",
    "\n",
    "# Scatter plot for observed_diff\n",
    "plt.axvline(x=observed_diff, color='red', label='Observed TVD')\n",
    "\n",
    "# Histogram plot for diffs\n",
    "pd.Series(diffs).plot(kind='hist', density=True, title=title, alpha=0.3, label='TVD Distribution')\n",
    "\n",
    "# Labels and legend\n",
    "plt.ylabel('Density')\n",
    "plt.legend()\n",
    "\n",
    "# Show the plot\n",
    "plt.show()\n"
   ]
  },
  {
   "cell_type": "markdown",
   "metadata": {},
   "source": [
    "Given that the p-value = 0.0228, which is smaller than our significant level, 0.05. Therefore, we reject the null hypothesis and supports the claim that there is a difference in impact between system operability disruption and non-system operability disruption on customers."
   ]
  },
  {
   "cell_type": "markdown",
   "metadata": {},
   "source": [
    "# Modeling"
   ]
  },
  {
   "cell_type": "code",
   "execution_count": 33,
   "metadata": {},
   "outputs": [
    {
     "data": {
      "text/html": [
       "<div>\n",
       "<style scoped>\n",
       "    .dataframe tbody tr th:only-of-type {\n",
       "        vertical-align: middle;\n",
       "    }\n",
       "\n",
       "    .dataframe tbody tr th {\n",
       "        vertical-align: top;\n",
       "    }\n",
       "\n",
       "    .dataframe thead th {\n",
       "        text-align: right;\n",
       "    }\n",
       "</style>\n",
       "<table border=\"1\" class=\"dataframe\">\n",
       "  <thead>\n",
       "    <tr style=\"text-align: right;\">\n",
       "      <th></th>\n",
       "      <th>TOTAL.PRICE</th>\n",
       "    </tr>\n",
       "  </thead>\n",
       "  <tbody>\n",
       "    <tr>\n",
       "      <th>count</th>\n",
       "      <td>1512.000000</td>\n",
       "    </tr>\n",
       "    <tr>\n",
       "      <th>mean</th>\n",
       "      <td>10.117851</td>\n",
       "    </tr>\n",
       "    <tr>\n",
       "      <th>std</th>\n",
       "      <td>2.905234</td>\n",
       "    </tr>\n",
       "    <tr>\n",
       "      <th>min</th>\n",
       "      <td>4.700000</td>\n",
       "    </tr>\n",
       "    <tr>\n",
       "      <th>25%</th>\n",
       "      <td>7.957500</td>\n",
       "    </tr>\n",
       "    <tr>\n",
       "      <th>50%</th>\n",
       "      <td>9.410000</td>\n",
       "    </tr>\n",
       "    <tr>\n",
       "      <th>75%</th>\n",
       "      <td>11.740000</td>\n",
       "    </tr>\n",
       "    <tr>\n",
       "      <th>max</th>\n",
       "      <td>31.290000</td>\n",
       "    </tr>\n",
       "  </tbody>\n",
       "</table>\n",
       "</div>"
      ],
      "text/plain": [
       "       TOTAL.PRICE\n",
       "count  1512.000000\n",
       "mean     10.117851\n",
       "std       2.905234\n",
       "min       4.700000\n",
       "25%       7.957500\n",
       "50%       9.410000\n",
       "75%      11.740000\n",
       "max      31.290000"
      ]
     },
     "execution_count": 33,
     "metadata": {},
     "output_type": "execute_result"
    }
   ],
   "source": [
    "# Explore the summary statistics of selected columns\n",
    "df[['TOTAL.PRICE']].describe()"
   ]
  },
  {
   "cell_type": "markdown",
   "metadata": {},
   "source": [
    "While exploring the dataset, we noticed that `TOTAL.PRICE` (average monthly electricity price in the U.S. state (cents/kilowatt-hour)) can vary significantly depending on other columns, such as `OUTAGE.DURATION`, `CLIMATE.CATEGORY`,`CAUSE.CATEGORY` `CLIMATE.REGION`, etc. Thus, we decided to perform feature engineering and use DecisionTreeRegressor as our model."
   ]
  },
  {
   "cell_type": "code",
   "execution_count": 34,
   "metadata": {
    "scrolled": false
   },
   "outputs": [
    {
     "data": {
      "text/plain": [
       "OUTAGE.DURATION     0.037182\n",
       "CLIMATE.CATEGORY    0.005219\n",
       "CAUSE.CATEGORY      0.000000\n",
       "CLIMATE.REGION      0.003262\n",
       "TOTAL.PRICE         0.013699\n",
       "dtype: float64"
      ]
     },
     "execution_count": 34,
     "metadata": {},
     "output_type": "execute_result"
    }
   ],
   "source": [
    "# Create dataframe based on selected column\n",
    "filtered_df = df[['OUTAGE.DURATION','CLIMATE.CATEGORY','CAUSE.CATEGORY'\n",
    "                  ,'CLIMATE.REGION','TOTAL.PRICE']]\n",
    "# Examine the percentage of nan value in each column\n",
    "filtered_df.isna().mean()"
   ]
  },
  {
   "cell_type": "code",
   "execution_count": 35,
   "metadata": {
    "scrolled": true
   },
   "outputs": [
    {
     "data": {
      "text/html": [
       "<div>\n",
       "<style scoped>\n",
       "    .dataframe tbody tr th:only-of-type {\n",
       "        vertical-align: middle;\n",
       "    }\n",
       "\n",
       "    .dataframe tbody tr th {\n",
       "        vertical-align: top;\n",
       "    }\n",
       "\n",
       "    .dataframe thead th {\n",
       "        text-align: right;\n",
       "    }\n",
       "</style>\n",
       "<table border=\"1\" class=\"dataframe\">\n",
       "  <thead>\n",
       "    <tr style=\"text-align: right;\">\n",
       "      <th></th>\n",
       "      <th>OUTAGE.DURATION</th>\n",
       "      <th>CLIMATE.CATEGORY</th>\n",
       "      <th>CAUSE.CATEGORY</th>\n",
       "      <th>CLIMATE.REGION</th>\n",
       "      <th>TOTAL.PRICE</th>\n",
       "    </tr>\n",
       "  </thead>\n",
       "  <tbody>\n",
       "    <tr>\n",
       "      <th>0</th>\n",
       "      <td>480.0</td>\n",
       "      <td>cold</td>\n",
       "      <td>severe weather</td>\n",
       "      <td>South</td>\n",
       "      <td>6.23</td>\n",
       "    </tr>\n",
       "    <tr>\n",
       "      <th>1</th>\n",
       "      <td>2159.0</td>\n",
       "      <td>cold</td>\n",
       "      <td>system operability disruption</td>\n",
       "      <td>South</td>\n",
       "      <td>6.23</td>\n",
       "    </tr>\n",
       "    <tr>\n",
       "      <th>2</th>\n",
       "      <td>70.0</td>\n",
       "      <td>cold</td>\n",
       "      <td>system operability disruption</td>\n",
       "      <td>South</td>\n",
       "      <td>5.91</td>\n",
       "    </tr>\n",
       "    <tr>\n",
       "      <th>3</th>\n",
       "      <td>3264.0</td>\n",
       "      <td>cold</td>\n",
       "      <td>severe weather</td>\n",
       "      <td>Southeast</td>\n",
       "      <td>5.51</td>\n",
       "    </tr>\n",
       "    <tr>\n",
       "      <th>4</th>\n",
       "      <td>1230.0</td>\n",
       "      <td>cold</td>\n",
       "      <td>severe weather</td>\n",
       "      <td>Southeast</td>\n",
       "      <td>6.24</td>\n",
       "    </tr>\n",
       "  </tbody>\n",
       "</table>\n",
       "</div>"
      ],
      "text/plain": [
       "   OUTAGE.DURATION CLIMATE.CATEGORY                 CAUSE.CATEGORY  \\\n",
       "0            480.0             cold                 severe weather   \n",
       "1           2159.0             cold  system operability disruption   \n",
       "2             70.0             cold  system operability disruption   \n",
       "3           3264.0             cold                 severe weather   \n",
       "4           1230.0             cold                 severe weather   \n",
       "\n",
       "  CLIMATE.REGION  TOTAL.PRICE  \n",
       "0          South         6.23  \n",
       "1          South         6.23  \n",
       "2          South         5.91  \n",
       "3      Southeast         5.51  \n",
       "4      Southeast         6.24  "
      ]
     },
     "execution_count": 35,
     "metadata": {},
     "output_type": "execute_result"
    }
   ],
   "source": [
    "# Drop any Nan values for further analysis\n",
    "filtered_df = filtered_df.dropna(axis = 0).reset_index(drop=True)\n",
    "filtered_df.head(5)"
   ]
  },
  {
   "cell_type": "markdown",
   "metadata": {},
   "source": [
    "### Model Set up"
   ]
  },
  {
   "cell_type": "code",
   "execution_count": 36,
   "metadata": {},
   "outputs": [],
   "source": [
    "# Set up\n",
    "from sklearn.model_selection import train_test_split\n",
    "from sklearn.pipeline import Pipeline\n",
    "from sklearn.model_selection import GridSearchCV\n",
    "from sklearn.preprocessing import OneHotEncoder\n",
    "from sklearn.compose import ColumnTransformer\n",
    "from sklearn.tree import DecisionTreeRegressor\n",
    "from sklearn.linear_model import LinearRegression"
   ]
  },
  {
   "cell_type": "code",
   "execution_count": 37,
   "metadata": {},
   "outputs": [],
   "source": [
    "X = filtered_df[['OUTAGE.DURATION', 'CLIMATE.CATEGORY', 'CAUSE.CATEGORY', 'CLIMATE.REGION']]\n",
    "y = filtered_df['TOTAL.PRICE']\n",
    "\n",
    "# Split the data into training, testing data\n",
    "X_train, X_test, y_train, y_test = train_test_split(X,y)"
   ]
  },
  {
   "cell_type": "code",
   "execution_count": 38,
   "metadata": {},
   "outputs": [
    {
     "name": "stdout",
     "output_type": "stream",
     "text": [
      "basline model score on training data: 0.6103259998857107\n",
      "basline model score on test data: 0.5869429776692481\n"
     ]
    }
   ],
   "source": [
    "# Perform one-hot encoding for categorical columns\n",
    "cat_col = ['CLIMATE.CATEGORY', 'CAUSE.CATEGORY', 'CLIMATE.REGION']\n",
    "prepoc = ColumnTransformer(\n",
    "    transformers=[('encoder', OneHotEncoder(), cat_col)],\n",
    "    remainder='passthrough'\n",
    ")\n",
    "# Use LinearRegression to predict the `DecisionTreeRegressor`\n",
    "pl = Pipeline([\n",
    "    ('col_transform',prepoc),\n",
    "    ('dtr',DecisionTreeRegressor(max_depth = 2))\n",
    "])\n",
    "\n",
    "# Fitting model and access metrics\n",
    "pl.fit(X_train,y_train)\n",
    "print(f'basline model score on training data: {pl.score(X_train,y_train)}')\n",
    "print(f'basline model score on test data: {pl.score(X_test,y_test)}')"
   ]
  },
  {
   "cell_type": "code",
   "execution_count": 39,
   "metadata": {
    "scrolled": false
   },
   "outputs": [
    {
     "name": "stdout",
     "output_type": "stream",
     "text": [
      "Best Model: Pipeline(steps=[('col_transform',\n",
      "                 ColumnTransformer(remainder='passthrough',\n",
      "                                   transformers=[('encoder', OneHotEncoder(),\n",
      "                                                  ['CLIMATE.CATEGORY',\n",
      "                                                   'CAUSE.CATEGORY',\n",
      "                                                   'CLIMATE.REGION'])])),\n",
      "                ('dtr',\n",
      "                 DecisionTreeRegressor(max_depth=3, min_samples_leaf=4,\n",
      "                                       min_samples_split=3))])\n",
      "Best Performance Score: 0.6146896305704571\n",
      "Best Parameters: {'dtr__max_depth': 3, 'dtr__min_samples_leaf': 4, 'dtr__min_samples_split': 3}\n"
     ]
    }
   ],
   "source": [
    "# Define hyperparameter grid for DecisionTreeRegressor\n",
    "hyperparameters = {\n",
    "    'dtr__max_depth': [1,3,5,7],\n",
    "    'dtr__min_samples_split': [1,3,5,7],\n",
    "    'dtr__min_samples_leaf': [1,2,4,8]\n",
    "    \n",
    "}\n",
    "\n",
    "# Create GridSearchCV\n",
    "grid_search = GridSearchCV(pl,hyperparameters,cv=5)\n",
    "\n",
    "# Fit the GridSearchCV object to the data\n",
    "grid_search.fit(X_train, y_train)\n",
    "\n",
    "# Access the best model and its performance metrics\n",
    "best_model = grid_search.best_estimator_\n",
    "best_score = grid_search.best_score_\n",
    "\n",
    "print(\"Best Model:\", best_model)\n",
    "print(\"Best Performance Score:\", best_score)\n",
    "print(\"Best Parameters:\", grid_search.best_params_)"
   ]
  },
  {
   "cell_type": "code",
   "execution_count": 40,
   "metadata": {},
   "outputs": [
    {
     "name": "stdout",
     "output_type": "stream",
     "text": [
      "Test score on training data: 0.6391856051319698\n",
      "Test score on test data: 0.6036602439656715\n"
     ]
    }
   ],
   "source": [
    "print(f'Test score on training data: {grid_search.score(X_train, y_train)}')\n",
    "print(f'Test score on test data: {grid_search.score(X_test, y_test)}')"
   ]
  },
  {
   "cell_type": "markdown",
   "metadata": {},
   "source": [
    "\n",
    "\n",
    "# Conclusion & Discussion"
   ]
  },
  {
   "cell_type": "markdown",
   "metadata": {},
   "source": [
    "* Discussion of your results and how they address your experimental question(s).\n",
    "* Come to a conclusion about your questions and hypothesis\n",
    "* What are the implications of your results?\n",
    "* Discussed limitations of your analyses.\n",
    "* You can also discuss future directions you'd like to pursue."
   ]
  },
  {
   "cell_type": "markdown",
   "metadata": {},
   "source": [
    "The p-value is 0.0282, falling below our significance level of 0.05. Consequently, we reject the null hypothesis, lending to the assertion that a difference exists in the impact on customers between system operability disruption and non-system operability disruption. Additionally, our model conducted analysis on the relationship among total price, outage duration, climate category, cause category, and climate category. It yielded a training data test score of 0.639 and a test data score of 0.603. This suggests that the model is not overfitting, and the overall accuracy of our model is greater than 60%.\n",
    "\n",
    "In conclusion, our findings clearly illustrate a pronounced difference in the effects of system operability disruption and non-system operability disruption on customers. System operability disruptions, which affect the core functionality of a product or service, can lead to immediate and often severe consequences for customer satisfaction and engagement. These disruptions may not only hinder the immediate use of the product or service but can also create a lasting negative impression, damaging trust and confidence in the brand. Non-system operability disruptions, though not to be ignored, may not have the same immediate or intense impact, as they generally relate to peripheral or supplementary features. The implications of these results are multifaceted and vital for businesses and policymakers alike. They call for a more nuanced and differentiated approach to quality assurance, maintenance, and customer service. \n",
    "\n",
    "One significant limitation of our analyses lies in the utilization of a dataset that is not current. As the dataset does not reflect the most recent situation, it may not accurately represent the ongoing dynamics of system operability and non-system operability disruptions. Changes in technology, infrastructure, customer behavior, and other factors could have altered the landscape considerably since the data was collected. This limitation can potentially impact the applicability and relevance of our findings to the present context. Although our analysis provides valuable insights into the effects of these disruptions, the use of outdated data restricts our ability to draw definitive conclusions about the current state of system operability disruptions. Future research, therefore, should focus on acquiring more timely and up-to-date information to ensure a more accurate and relevant understanding of the subject matter.\n",
    "\n",
    "A compelling future direction that emerges from our findings is the opportunity to extend our analysis to a global scale. By incorporating data from other countries, we can explore whether the observed correlation between system operability disruption and non-system operability disruption on customers exists across different cultures, economies, and technological landscapes. Examining these relationships in various international contexts would not only enhance the generalizability of our findings but also provide insights into how regional factors might influence the effects of these disruptions. Such a global perspective could lead to more comprehensive and nuanced understandings, aiding in the development of universal strategies and standards to mitigate the impact of disruptions on customer satisfaction. It represents a significant step towards a more interconnected and globally aware approach to addressing the challenges posed by system operability disruptions."
   ]
  }
 ],
 "metadata": {
  "kernelspec": {
   "display_name": "Python 3 (ipykernel)",
   "language": "python",
   "name": "python3"
  },
  "language_info": {
   "codemirror_mode": {
    "name": "ipython",
    "version": 3
   },
   "file_extension": ".py",
   "mimetype": "text/x-python",
   "name": "python",
   "nbconvert_exporter": "python",
   "pygments_lexer": "ipython3",
   "version": "3.9.12"
  }
 },
 "nbformat": 4,
 "nbformat_minor": 2
}
